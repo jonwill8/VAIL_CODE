{
  "nbformat": 4,
  "nbformat_minor": 0,
  "metadata": {
    "colab": {
      "name": "Drowsiness_Detection_Model_V2.ipynb",
      "provenance": [],
      "mount_file_id": "1BLUg2weAcFBkiCC38FRFByggo1VbPXJF",
      "authorship_tag": "ABX9TyPlVie+zH21EE6p+uBtkzTt",
      "include_colab_link": true
    },
    "kernelspec": {
      "name": "python3",
      "display_name": "Python 3"
    },
    "accelerator": "GPU"
  },
  "cells": [
    {
      "cell_type": "markdown",
      "metadata": {
        "id": "view-in-github",
        "colab_type": "text"
      },
      "source": [
        "<a href=\"https://colab.research.google.com/github/jonwill8/VAIL_CODE/blob/master/Drowsiness_Detection_Model_V2.ipynb\" target=\"_parent\"><img src=\"https://colab.research.google.com/assets/colab-badge.svg\" alt=\"Open In Colab\"/></a>"
      ]
    },
    {
      "cell_type": "code",
      "metadata": {
        "colab": {
          "base_uri": "https://localhost:8080/",
          "height": 204
        },
        "id": "agNlBcRpJdO9",
        "outputId": "263eba6f-d516-49ca-d1ff-1f168ad1847a"
      },
      "source": [
        "#reading raw rr interval vs sleep grade into a dataframe:\n",
        "import pandas as pd\n",
        "import numpy as np\n",
        "import pickle\n",
        "import matplotlib.pyplot as plt\n",
        "rri_sleep_df = pd.read_csv('/content/drive/MyDrive/Colab Notebooks/Driver_Drowsiness/RRIS_Database.csv',)\n",
        "rri_sleep_df = rri_sleep_df[['RR Interval','Sleep Stage']]\n",
        "rri_sleep_df.tail()"
      ],
      "execution_count": 4,
      "outputs": [
        {
          "output_type": "execute_result",
          "data": {
            "text/html": [
              "<div>\n",
              "<style scoped>\n",
              "    .dataframe tbody tr th:only-of-type {\n",
              "        vertical-align: middle;\n",
              "    }\n",
              "\n",
              "    .dataframe tbody tr th {\n",
              "        vertical-align: top;\n",
              "    }\n",
              "\n",
              "    .dataframe thead th {\n",
              "        text-align: right;\n",
              "    }\n",
              "</style>\n",
              "<table border=\"1\" class=\"dataframe\">\n",
              "  <thead>\n",
              "    <tr style=\"text-align: right;\">\n",
              "      <th></th>\n",
              "      <th>RR Interval</th>\n",
              "      <th>Sleep Stage</th>\n",
              "    </tr>\n",
              "  </thead>\n",
              "  <tbody>\n",
              "    <tr>\n",
              "      <th>106508</th>\n",
              "      <td>[0.41015625, 0.55859375, 0.67578125, 27.71484375]</td>\n",
              "      <td>0</td>\n",
              "    </tr>\n",
              "    <tr>\n",
              "      <th>106509</th>\n",
              "      <td>[2.890625, 3.33984375, 0.41015625, 22.328125]</td>\n",
              "      <td>0</td>\n",
              "    </tr>\n",
              "    <tr>\n",
              "      <th>106510</th>\n",
              "      <td>[0.23046875]</td>\n",
              "      <td>0</td>\n",
              "    </tr>\n",
              "    <tr>\n",
              "      <th>106511</th>\n",
              "      <td>[]</td>\n",
              "      <td>0</td>\n",
              "    </tr>\n",
              "    <tr>\n",
              "      <th>106512</th>\n",
              "      <td>[16.12109375, 0.32421875, 1.00390625, 0.847656...</td>\n",
              "      <td>0</td>\n",
              "    </tr>\n",
              "  </tbody>\n",
              "</table>\n",
              "</div>"
            ],
            "text/plain": [
              "                                              RR Interval  Sleep Stage\n",
              "106508  [0.41015625, 0.55859375, 0.67578125, 27.71484375]            0\n",
              "106509      [2.890625, 3.33984375, 0.41015625, 22.328125]            0\n",
              "106510                                       [0.23046875]            0\n",
              "106511                                                 []            0\n",
              "106512  [16.12109375, 0.32421875, 1.00390625, 0.847656...            0"
            ]
          },
          "metadata": {
            "tags": []
          },
          "execution_count": 4
        }
      ]
    },
    {
      "cell_type": "code",
      "metadata": {
        "id": "cYEDrEE9Kn-y"
      },
      "source": [
        "#writing a function to process the rri_sleep_df rr intervals (initially strings)\n",
        "def process_intervals(rr_string_interval):\n",
        "  nums = []\n",
        "  for char in rr_string_interval.split():\n",
        "    if char[0] == '[':\n",
        "        char = char[1:]\n",
        "    elif char[-1] == ']':\n",
        "        char = char[:-1]\n",
        "    try:\n",
        "        num = eval(char)\n",
        "        nums.append(num)\n",
        "    except:\n",
        "        pass\n",
        "  return nums"
      ],
      "execution_count": 5,
      "outputs": []
    },
    {
      "cell_type": "code",
      "metadata": {
        "id": "27aX5N2_a40I"
      },
      "source": [
        "#making list for rr inteval/sleep stage\n",
        "\n",
        "rr_intervals,sleep_stages = [],[]\n",
        "\n",
        "for row_index in range(len(rri_sleep_df)):\n",
        "  sample = rri_sleep_df.iloc[row_index]\n",
        "  rr_string_interval = sample['RR Interval']\n",
        "  rr_string_interval = process_intervals(rr_string_interval)\n",
        "  rr_interval = []\n",
        "  for item in rr_string_interval:\n",
        "    try:\n",
        "      rr_interval.append(item[0])\n",
        "    except:\n",
        "      rr_interval.append(float(item))\n",
        "  rr_intervals.append(rr_interval)\n",
        "  sleep_stages.append(float((sample['Sleep Stage'])))"
      ],
      "execution_count": 6,
      "outputs": []
    },
    {
      "cell_type": "code",
      "metadata": {
        "colab": {
          "base_uri": "https://localhost:8080/"
        },
        "id": "0qPYU3r4LTl9",
        "outputId": "153837a5-7a8a-4628-9ee3-ae8c449c99a6"
      },
      "source": [
        "#calculating # of samples w/i +-3 SD of the median\n",
        "\n",
        "#RR Interval Length Summary Stats\n",
        "#median = 30.31886889\n",
        "#std = 4.42046041854777\n",
        "#ndevs = 3\n",
        "\n",
        "count = 0 \n",
        "for index,rrinterval in enumerate(rr_intervals):\n",
        "  #if len(rrinterval)>=(median-std*ndevs) and len(rrinterval)<=(median+std*ndevs):\n",
        "  if len(rrinterval)>=(17) and len(rrinterval)<=(43):\n",
        "     if sleep_stages[index]==0 or sleep_stages[index]==1:\n",
        "        count+=1\n",
        "print(count)\n",
        "print()"
      ],
      "execution_count": 7,
      "outputs": [
        {
          "output_type": "stream",
          "text": [
            "27350\n",
            "\n"
          ],
          "name": "stdout"
        }
      ]
    },
    {
      "cell_type": "code",
      "metadata": {
        "id": "vFD8dn9B-09e",
        "colab": {
          "base_uri": "https://localhost:8080/"
        },
        "outputId": "e14edba6-d343-4963-fb16-86ab521cd135"
      },
      "source": [
        "#trimming dataset to only include rr intervals between lens 17 --> 44 and sleep stages between [0,1]\n",
        "valid_rr_intervals, valid_sleep_stages = [], []\n",
        "for index,rr_interval in enumerate(rr_intervals):\n",
        "  if len(rr_interval)>=(17) and len(rr_interval)<=(43):\n",
        "    if sleep_stages[index]==0 or sleep_stages[index]==1:\n",
        "      valid_rr_intervals.append(rr_interval)\n",
        "      valid_sleep_stages.append(int(sleep_stages[index]))\n",
        "print(len(valid_rr_intervals))"
      ],
      "execution_count": 8,
      "outputs": [
        {
          "output_type": "stream",
          "text": [
            "27350\n"
          ],
          "name": "stdout"
        }
      ]
    },
    {
      "cell_type": "code",
      "metadata": {
        "id": "Qah06AnNTcv0",
        "colab": {
          "base_uri": "https://localhost:8080/"
        },
        "outputId": "b91dce58-c5e4-4885-b60b-e15a64ced5c9"
      },
      "source": [
        "#noramlizing/scaling all rr intervals\n",
        "from sklearn.preprocessing import RobustScaler\n",
        "\n",
        "clean_rr_intervals = [0]*len(valid_rr_intervals)\n",
        "\n",
        "for index,dirty_rr_interval in enumerate(valid_rr_intervals):\n",
        "  transformer = RobustScaler().fit(np.array(dirty_rr_interval).reshape(-1,1))\n",
        "  transformed_arr = transformer.transform(np.array(dirty_rr_interval).reshape(-1,1))\n",
        "  transformed_arr = transformed_arr.T\n",
        "  clean_rr_intervals[index] = transformed_arr.tolist()[0]\n",
        "print(clean_rr_intervals[0])"
      ],
      "execution_count": 9,
      "outputs": [
        {
          "output_type": "stream",
          "text": [
            "[0.17647058823529413, 0.6470588235294118, 0.4117647058823529, 0.17647058823529413, -1.0, -0.6470588235294118, -0.6470588235294118, -1.1176470588235294, -0.058823529411764705, -0.4117647058823529, 0.17647058823529413, 0.6470588235294118, 0.058823529411764705, 1.0, 0.29411764705882354, 0.4117647058823529, -0.17647058823529413, 0.29411764705882354, 0.4117647058823529, 0.5294117647058824, 0.4117647058823529, 0.5294117647058824, -0.058823529411764705, -0.6470588235294118, -1.1176470588235294, -1.2352941176470589, -0.4117647058823529, -1.2352941176470589, -0.6470588235294118, -0.5294117647058824, -0.29411764705882354, 0.29411764705882354, -0.17647058823529413, 0.29411764705882354]\n"
          ],
          "name": "stdout"
        }
      ]
    },
    {
      "cell_type": "code",
      "metadata": {
        "colab": {
          "base_uri": "https://localhost:8080/"
        },
        "id": "tRTdP1WqU4n_",
        "outputId": "e6f23bf6-6f08-44b4-85ef-c381f4df6d4c"
      },
      "source": [
        "#padding zeros to end of smaller rr interval arrays\n",
        "max_rr_interval_num = max([len(rr_interval) for rr_interval in clean_rr_intervals])\n",
        "for rr_interval in clean_rr_intervals:\n",
        "  if len(rr_interval)<max_rr_interval_num:\n",
        "    add_zero_num = max_rr_interval_num-len(rr_interval)\n",
        "    for _ in range(add_zero_num):\n",
        "      rr_interval.append(0)\n",
        "#renaming clearn_rr_intervals --> RR_intervals\n",
        "RR_intervals = clean_rr_intervals\n",
        "RR_intervals = np.array(RR_intervals)\n",
        "print(RR_intervals.shape)"
      ],
      "execution_count": 10,
      "outputs": [
        {
          "output_type": "stream",
          "text": [
            "(27350, 43)\n"
          ],
          "name": "stdout"
        }
      ]
    },
    {
      "cell_type": "code",
      "metadata": {
        "id": "N7HsPltJ-7Ub"
      },
      "source": [
        "#pulling function that makes recurrance plots on passed series data\n",
        "from sklearn import metrics\n",
        "\n",
        "def recurrence_plot(s, eps=None, steps=None):\n",
        "  if eps==None: eps=0.1\n",
        "  if steps==None: steps=10\n",
        "  d = metrics.pairwise.pairwise_distances(s)\n",
        "  d = np.floor(d / eps)\n",
        "  d[d > steps] = steps\n",
        "  #Z = squareform(d)\n",
        "  return d"
      ],
      "execution_count": 11,
      "outputs": []
    },
    {
      "cell_type": "code",
      "metadata": {
        "colab": {
          "base_uri": "https://localhost:8080/",
          "height": 645
        },
        "id": "JMqNXKaW-_9t",
        "outputId": "b92112b4-07f8-4c20-d3aa-f60e4a0246fc"
      },
      "source": [
        "#pulling an awake vs sleep stage index\n",
        "\n",
        "#making a temp list so we can pull indices where person was awake vs in varying degrees of sleep\n",
        "valid_sleep_stages_list = list(valid_sleep_stages)\n",
        "awake_indicies = [index for index,sleep_stage in enumerate(valid_sleep_stages_list) if sleep_stage==0]\n",
        "sleep_indicies = [index for index,sleep_stage in enumerate(valid_sleep_stages_list) if sleep_stage==1]\n",
        "\n",
        "#making a recurrance plot of randomly chosen awake vs sleep\n",
        "rand_wake_index = np.random.choice(awake_indicies)\n",
        "rand_sleep_index = np.random.choice(sleep_indicies)\n",
        "\n",
        "awake_rp = recurrence_plot(RR_intervals[rand_wake_index,:].reshape(-1,1))\n",
        "sleep_rp = recurrence_plot(RR_intervals[rand_sleep_index,:].reshape(-1,1))\n",
        "\n",
        "fig, axs = plt.subplots(1,2,figsize=(20,10))\n",
        "fig.suptitle('Comparison of Awake vs Sleep Recurrence Plots')\n",
        "axs[0].imshow(awake_rp)\n",
        "axs[0].set_title('Awake Recurrence Plot')\n",
        "axs[1].imshow(sleep_rp)\n",
        "axs[1].set_title('Sleep Recurrence Plot')\n",
        "fig.show()"
      ],
      "execution_count": 12,
      "outputs": [
        {
          "output_type": "display_data",
          "data": {
            "image/png": "[encoded data removed]",
            "text/plain": [
              "<Figure size 1440x720 with 2 Axes>"
            ]
          },
          "metadata": {
            "tags": [],
            "needs_background": "light"
          }
        }
      ]
    },
    {
      "cell_type": "code",
      "metadata": {
        "colab": {
          "base_uri": "https://localhost:8080/"
        },
        "id": "f2eNuUDg_RH7",
        "outputId": "85c75288-c52f-45f7-e705-9e5fa841204f"
      },
      "source": [
        "from sklearn.preprocessing import normalize\n",
        "#applying the rp function so each interval so we can create our X database\n",
        "X_data = np.empty((27350,43,43))\n",
        "\n",
        "for index in range(X_data.shape[0]):\n",
        "  RR_interval = RR_intervals[index].reshape(-1,1)\n",
        "  interval_rp = recurrence_plot(RR_interval)\n",
        "  interval_rp = normalize(interval_rp)\n",
        "  X_data[index,:,:] = interval_rp\n",
        "print(X_data.shape)"
      ],
      "execution_count": 13,
      "outputs": [
        {
          "output_type": "stream",
          "text": [
            "(27350, 43, 43)\n"
          ],
          "name": "stdout"
        }
      ]
    },
    {
      "cell_type": "code",
      "metadata": {
        "id": "cCMY_Jjp_hcg",
        "colab": {
          "base_uri": "https://localhost:8080/"
        },
        "outputId": "1a3349fa-8eeb-41a4-81a9-0ee6fcc0b75c"
      },
      "source": [
        "#test-train splitting our data\n",
        "from sklearn.model_selection import train_test_split\n",
        "X_train, X_test, y_train, y_test = train_test_split(X_data, np.array(valid_sleep_stages), test_size=0.1, shuffle=True)\n",
        "#reshaping x vectors to be 4d\n",
        "x_train = X_train.reshape(X_train.shape[0], 43,43,1)\n",
        "x_test = X_test.reshape(X_test.shape[0], 43,43,1)\n",
        "print(y_train)"
      ],
      "execution_count": 14,
      "outputs": [
        {
          "output_type": "stream",
          "text": [
            "[0 0 0 ... 0 0 0]\n"
          ],
          "name": "stdout"
        }
      ]
    },
    {
      "cell_type": "code",
      "metadata": {
        "colab": {
          "base_uri": "https://localhost:8080/"
        },
        "id": "CQ94ToFI_oDm",
        "outputId": "840f046e-d209-4954-88eb-a70ebd1af703"
      },
      "source": [
        "#building CNN to classify between awake vs sleep\n",
        "from keras.models import Sequential\n",
        "from keras import layers\n",
        "from keras.layers import Dense, Dropout, Activation, Flatten\n",
        "from keras.layers import Conv2D, MaxPooling2D, LeakyReLU\n",
        "from keras import metrics\n",
        "from keras import optimizers\n",
        "\n",
        "model = Sequential(name='Sleep_Classifier_v1')\n",
        "\n",
        "model.add(Conv2D(filters=64,kernel_size=2,strides=(1, 1),padding='valid',activation='relu',input_shape=(43,43,1), data_format='channels_last'))\n",
        "model.add(MaxPooling2D(pool_size=(2,2),strides=(2,2),padding='valid'))\n",
        "model.add(Dropout(0.1))\n",
        "model.add(layers.Conv2D(filters=256,kernel_size=3,strides=(1, 1),padding='valid',activation='relu'))\n",
        "model.add(layers.MaxPooling2D(pool_size=(2, 2),strides=(2,2),padding='valid'))\n",
        "model.add(Dropout(0.1))\n",
        "model.add(layers.Conv2D(filters=512,kernel_size=4,strides=(1, 1),padding='valid',activation='relu'))\n",
        "model.add(layers.MaxPooling2D(pool_size=(2, 2),strides=(2,2),padding='valid'))\n",
        "model.add(Dropout(0.1))  \n",
        "model.add(Flatten())\n",
        "model.add(Dense(2048, activation='relu'))\n",
        "model.add(Dropout(0.1))\n",
        "model.add(Dense(1024, activation='relu'))\n",
        "model.add(Dropout(0.1))\n",
        "model.add(Dense(512, activation='relu'))\n",
        "model.add(Dropout(0.1))\n",
        "model.add(Dense(256, activation='relu'))\n",
        "model.add(Dropout(0.1))\n",
        "model.add(Dense(1, activation='sigmoid'))\n",
        "\n",
        "model.compile(loss='binary_crossentropy', optimizer='ADAM',metrics=['accuracy'])\n",
        "model.summary()"
      ],
      "execution_count": 26,
      "outputs": [
        {
          "output_type": "stream",
          "text": [
            "Model: \"Sleep_Classifier_v1\"\n",
            "_________________________________________________________________\n",
            "Layer (type)                 Output Shape              Param #   \n",
            "=================================================================\n",
            "conv2d_18 (Conv2D)           (None, 42, 42, 64)        320       \n",
            "_________________________________________________________________\n",
            "max_pooling2d_18 (MaxPooling (None, 21, 21, 64)        0         \n",
            "_________________________________________________________________\n",
            "dropout_39 (Dropout)         (None, 21, 21, 64)        0         \n",
            "_________________________________________________________________\n",
            "conv2d_19 (Conv2D)           (None, 19, 19, 256)       147712    \n",
            "_________________________________________________________________\n",
            "max_pooling2d_19 (MaxPooling (None, 9, 9, 256)         0         \n",
            "_________________________________________________________________\n",
            "dropout_40 (Dropout)         (None, 9, 9, 256)         0         \n",
            "_________________________________________________________________\n",
            "conv2d_20 (Conv2D)           (None, 6, 6, 512)         2097664   \n",
            "_________________________________________________________________\n",
            "max_pooling2d_20 (MaxPooling (None, 3, 3, 512)         0         \n",
            "_________________________________________________________________\n",
            "dropout_41 (Dropout)         (None, 3, 3, 512)         0         \n",
            "_________________________________________________________________\n",
            "flatten_6 (Flatten)          (None, 4608)              0         \n",
            "_________________________________________________________________\n",
            "dense_27 (Dense)             (None, 2048)              9439232   \n",
            "_________________________________________________________________\n",
            "dropout_42 (Dropout)         (None, 2048)              0         \n",
            "_________________________________________________________________\n",
            "dense_28 (Dense)             (None, 1024)              2098176   \n",
            "_________________________________________________________________\n",
            "dropout_43 (Dropout)         (None, 1024)              0         \n",
            "_________________________________________________________________\n",
            "dense_29 (Dense)             (None, 512)               524800    \n",
            "_________________________________________________________________\n",
            "dropout_44 (Dropout)         (None, 512)               0         \n",
            "_________________________________________________________________\n",
            "dense_30 (Dense)             (None, 256)               131328    \n",
            "_________________________________________________________________\n",
            "dropout_45 (Dropout)         (None, 256)               0         \n",
            "_________________________________________________________________\n",
            "dense_31 (Dense)             (None, 1)                 257       \n",
            "=================================================================\n",
            "Total params: 14,439,489\n",
            "Trainable params: 14,439,489\n",
            "Non-trainable params: 0\n",
            "_________________________________________________________________\n"
          ],
          "name": "stdout"
        }
      ]
    },
    {
      "cell_type": "code",
      "metadata": {
        "colab": {
          "base_uri": "https://localhost:8080/",
          "height": 867
        },
        "id": "k-OqloXuB-0w",
        "outputId": "256c168b-a906-4029-83e7-7e5a45177e82"
      },
      "source": [
        "#training model\n",
        "history = model.fit(x_train, y_train, epochs=15, validation_split=0.1, batch_size=32,shuffle=True)\n",
        "\n",
        "#plotting history\n",
        "pd.DataFrame(history.history).plot(figsize=(8,5))\n",
        "plt.show()\n",
        "\n",
        "#testing model\n",
        "results = model.evaluate(x_test, y_test)\n",
        "print(\"test loss, test acc:\", results)"
      ],
      "execution_count": 27,
      "outputs": [
        {
          "output_type": "stream",
          "text": [
            "Epoch 1/15\n",
            "693/693 [==============================] - 13s 17ms/step - loss: 0.4021 - accuracy: 0.8682 - val_loss: 0.3885 - val_accuracy: 0.8729\n",
            "Epoch 2/15\n",
            "693/693 [==============================] - 11s 16ms/step - loss: 0.3803 - accuracy: 0.8721 - val_loss: 0.3760 - val_accuracy: 0.8729\n",
            "Epoch 3/15\n",
            "693/693 [==============================] - 11s 16ms/step - loss: 0.3677 - accuracy: 0.8764 - val_loss: 0.3753 - val_accuracy: 0.8729\n",
            "Epoch 4/15\n",
            "693/693 [==============================] - 11s 16ms/step - loss: 0.3784 - accuracy: 0.8723 - val_loss: 0.3748 - val_accuracy: 0.8729\n",
            "Epoch 5/15\n",
            "693/693 [==============================] - 11s 16ms/step - loss: 0.3705 - accuracy: 0.8738 - val_loss: 0.3727 - val_accuracy: 0.8729\n",
            "Epoch 6/15\n",
            "693/693 [==============================] - 11s 16ms/step - loss: 0.3688 - accuracy: 0.8747 - val_loss: 0.3744 - val_accuracy: 0.8729\n",
            "Epoch 7/15\n",
            "693/693 [==============================] - 11s 16ms/step - loss: 0.3701 - accuracy: 0.8738 - val_loss: 0.3752 - val_accuracy: 0.8729\n",
            "Epoch 8/15\n",
            "693/693 [==============================] - 11s 16ms/step - loss: 0.3731 - accuracy: 0.8717 - val_loss: 0.3750 - val_accuracy: 0.8729\n",
            "Epoch 9/15\n",
            "693/693 [==============================] - 11s 16ms/step - loss: 0.3649 - accuracy: 0.8747 - val_loss: 0.3762 - val_accuracy: 0.8729\n",
            "Epoch 10/15\n",
            "693/693 [==============================] - 11s 16ms/step - loss: 0.3631 - accuracy: 0.8763 - val_loss: 0.3776 - val_accuracy: 0.8729\n",
            "Epoch 11/15\n",
            "693/693 [==============================] - 11s 16ms/step - loss: 0.3677 - accuracy: 0.8751 - val_loss: 0.3741 - val_accuracy: 0.8729\n",
            "Epoch 12/15\n",
            "693/693 [==============================] - 11s 16ms/step - loss: 0.3675 - accuracy: 0.8746 - val_loss: 0.3735 - val_accuracy: 0.8729\n",
            "Epoch 13/15\n",
            "693/693 [==============================] - 11s 16ms/step - loss: 0.3672 - accuracy: 0.8742 - val_loss: 0.3749 - val_accuracy: 0.8729\n",
            "Epoch 14/15\n",
            "693/693 [==============================] - 11s 16ms/step - loss: 0.3662 - accuracy: 0.8748 - val_loss: 0.3731 - val_accuracy: 0.8729\n",
            "Epoch 15/15\n",
            "693/693 [==============================] - 11s 16ms/step - loss: 0.3665 - accuracy: 0.8740 - val_loss: 0.3733 - val_accuracy: 0.8729\n"
          ],
          "name": "stdout"
        },
        {
          "output_type": "display_data",
          "data": {
            "image/png": "[encoded data removed]",
            "text/plain": [
              "<Figure size 576x360 with 1 Axes>"
            ]
          },
          "metadata": {
            "tags": [],
            "needs_background": "light"
          }
        },
        {
          "output_type": "stream",
          "text": [
            "86/86 [==============================] - 0s 5ms/step - loss: 0.3789 - accuracy: 0.8680\n",
            "test loss, test acc: [0.37885987758636475, 0.8680073022842407]\n"
          ],
          "name": "stdout"
        }
      ]
    },
    {
      "cell_type": "code",
      "metadata": {
        "id": "gNxwCWutE25t"
      },
      "source": [
        ""
      ],
      "execution_count": 16,
      "outputs": []
    }
  ]
}