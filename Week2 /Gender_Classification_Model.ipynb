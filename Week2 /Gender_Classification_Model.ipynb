{
 "nbformat": 4,
 "nbformat_minor": 0,
 "metadata": {
  "colab": {
   "name": "Gender_Classification_Model.ipynb",
   "provenance": []
  },
  "kernelspec": {
   "name": "python3",
   "language": "python",
   "display_name": "Python 3"
  }
 },
 "cells": [
  {
   "cell_type": "markdown",
   "metadata": {
    "id": "byQTzzdzuYJU"
   },
   "source": [
    "# This notebook corresponds to VAIL Day 15 Activity"
   ]
  },
  {
   "cell_type": "code",
   "metadata": {
    "id": "7GtHkgcCeLsj"
   },
   "source": [
    "#making imports\n",
    "\n",
    "import numpy as np\n",
    "import matplotlib.pyplot as plt\n",
    "import pandas as pd\n",
    "from sklearn.linear_model import LogisticRegression\n",
    "from sklearn.model_selection import train_test_split"
   ],
   "execution_count": 1,
   "outputs": []
  },
  {
   "cell_type": "code",
   "metadata": {
    "colab": {
     "base_uri": "https://localhost:8080/"
    },
    "id": "6eaKHmipi1bw",
    "outputId": "fa40d39d-0d58-4929-ddb6-f21b7cf57aae"
   },
   "source": [
    "#creating a voices data_frame\n",
    "\n",
    "voices_df = pd.read_csv('voice.csv')\n",
    "\n",
    "#showing the head of the data frame\n",
    "print(voices_df.head())"
   ],
   "execution_count": 2,
   "outputs": [
    {
     "name": "stdout",
     "output_type": "stream",
     "text": [
      "   meanfreq        sd    median       Q25       Q75       IQR       skew  \\\n",
      "0  0.059781  0.064241  0.032027  0.015071  0.090193  0.075122  12.863462   \n",
      "1  0.066009  0.067310  0.040229  0.019414  0.092666  0.073252  22.423285   \n",
      "2  0.077316  0.083829  0.036718  0.008701  0.131908  0.123207  30.757155   \n",
      "3  0.151228  0.072111  0.158011  0.096582  0.207955  0.111374   1.232831   \n",
      "4  0.135120  0.079146  0.124656  0.078720  0.206045  0.127325   1.101174   \n",
      "\n",
      "          kurt    sp.ent       sfm  ...  centroid   meanfun    minfun  \\\n",
      "0   274.402906  0.893369  0.491918  ...  0.059781  0.084279  0.015702   \n",
      "1   634.613855  0.892193  0.513724  ...  0.066009  0.107937  0.015826   \n",
      "2  1024.927705  0.846389  0.478905  ...  0.077316  0.098706  0.015656   \n",
      "3     4.177296  0.963322  0.727232  ...  0.151228  0.088965  0.017798   \n",
      "4     4.333713  0.971955  0.783568  ...  0.135120  0.106398  0.016931   \n",
      "\n",
      "     maxfun   meandom    mindom    maxdom   dfrange   modindx  label  \n",
      "0  0.275862  0.007812  0.007812  0.007812  0.000000  0.000000   male  \n",
      "1  0.250000  0.009014  0.007812  0.054688  0.046875  0.052632   male  \n",
      "2  0.271186  0.007990  0.007812  0.015625  0.007812  0.046512   male  \n",
      "3  0.250000  0.201497  0.007812  0.562500  0.554688  0.247119   male  \n",
      "4  0.266667  0.712812  0.007812  5.484375  5.476562  0.208274   male  \n",
      "\n",
      "[5 rows x 21 columns]\n"
     ]
    }
   ]
  },
  {
   "cell_type": "code",
   "metadata": {
    "id": "FJdOHI17jAKG"
   },
   "source": [
    "#parsing x/y data so we can test,train,split data\n",
    "\n",
    "X_data, Y_data =  voices_df.iloc[:, 0:20], voices_df['label']\n",
    "\n",
    "X_train, X_test, y_train, y_test = train_test_split(X_data, Y_data, test_size=0.3, shuffle=True)"
   ],
   "execution_count": 3,
   "outputs": []
  },
  {
   "cell_type": "code",
   "metadata": {
    "colab": {
     "base_uri": "https://localhost:8080/"
    },
    "id": "oBBUFKw2kR98",
    "outputId": "edeef427-4fab-4616-a38f-ba00e35e5277"
   },
   "source": [
    "#importing logistic regression model from skl\n",
    "\n",
    "model = LogisticRegression(solver='lbfgs',max_iter=1000)\n",
    "model.fit(X_train,y_train)"
   ],
   "execution_count": 4,
   "outputs": [
    {
     "data": {
      "text/plain": "LogisticRegression(max_iter=1000)"
     },
     "execution_count": 4,
     "metadata": {},
     "output_type": "execute_result"
    }
   ]
  },
  {
   "cell_type": "code",
   "metadata": {
    "colab": {
     "base_uri": "https://localhost:8080/"
    },
    "id": "k6vUOVUemkuY",
    "outputId": "1b637fce-7ea8-4207-c5d0-27376bb3807a"
   },
   "source": [
    "model.score(X_test,y_test)"
   ],
   "execution_count": 5,
   "outputs": [
    {
     "data": {
      "text/plain": "0.9064143007360673"
     },
     "execution_count": 5,
     "metadata": {},
     "output_type": "execute_result"
    }
   ]
  },
  {
   "cell_type": "markdown",
   "metadata": {
    "id": "GBZeMrRJpiZ4"
   },
   "source": [
    "Scoring Notes:\n",
    "  * max_iters=1000, solver='lbfgs' --> gender classification accuracy of 0.91\n",
    "  * max_iters=1000, solver='newton-cg' --> gender classification accuracy of 0.91\n",
    "  * max_iters=1000, solver='liblinear' --> agender classification ccuracy of 0.91\n"
   ]
  }
 ]
}