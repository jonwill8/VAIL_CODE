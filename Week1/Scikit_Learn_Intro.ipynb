{
 "cells": [
  {
   "cell_type": "markdown",
   "source": [
    "# This notebook corresponds to the Day 2 (2/9) Learn Activity"
   ],
   "metadata": {
    "collapsed": false,
    "pycharm": {
     "name": "#%% md\n"
    }
   }
  },
  {
   "cell_type": "markdown",
   "source": [
    "### SciKit Learn Notes:\n",
    "* SciKit Learn is a powerful ML Python module\n",
    "* SKL has a wide array of both supervised & unsupervised models\n",
    "* SKL is built on top of some common Modules:\n",
    "    * Numpy/Scipy/Pandas/Sympy/Matplotlib\n",
    "    * Note: You can directly pass pandas dataframes/numpy arrays to SKL\n",
    "* SKL is builf for ML, not data processing or visualization\n",
    "* Common SKL ML Algorithms:\n",
    "    * Regression\n",
    "    * Clustering\n",
    "    * Decision Trees\n",
    "    * Nueral Nets\n",
    "\n",
    "* This activity walks us through implementing a Decision Tree Clasifer from SKL"
   ],
   "metadata": {
    "collapsed": false
   }
  },
  {
   "cell_type": "code",
   "execution_count": 1,
   "outputs": [],
   "source": [
    "#importing the nessacary modules\n",
    "\n",
    "from sklearn.datasets import load_iris\n",
    "from sklearn import tree\n",
    "\n",
    "#loading the famous iris dataset\n",
    "iris_data = load_iris()\n",
    "\n",
    "#initilizing our Decision Tree Clasifer\n",
    "classifier_tree = tree.DecisionTreeClassifier()\n",
    "\n",
    "#training our decision tree to the iris dataset\n",
    "classifier_tree = classifier_tree.fit(iris_data.data,iris_data.target)"
   ],
   "metadata": {
    "collapsed": false,
    "pycharm": {
     "name": "#%%\n"
    }
   }
  },
  {
   "cell_type": "code",
   "execution_count": 2,
   "outputs": [
    {
     "data": {
      "text/plain": "'iris_data.pdf'"
     },
     "execution_count": 2,
     "metadata": {},
     "output_type": "execute_result"
    }
   ],
   "source": [
    "#attempt to visualize the model:\n",
    "import graphviz\n",
    "dot_data = tree.export_graphviz(classifier_tree, out_file=None,\n",
    "                     feature_names=iris_data.feature_names,\n",
    "                     class_names=iris_data.target_names,\n",
    "                     filled=True, rounded=True,\n",
    "                     special_characters=True)\n",
    "graph = graphviz.Source(dot_data)\n",
    "graph.render(\"iris_data\")\n",
    "\n"
   ],
   "metadata": {
    "collapsed": false,
    "pycharm": {
     "name": "#%%\n"
    }
   }
  }
 ],
 "metadata": {
  "kernelspec": {
   "display_name": "Python 3",
   "language": "python",
   "name": "python3"
  },
  "language_info": {
   "codemirror_mode": {
    "name": "ipython",
    "version": 2
   },
   "file_extension": ".py",
   "mimetype": "text/x-python",
   "name": "python",
   "nbconvert_exporter": "python",
   "pygments_lexer": "ipython2",
   "version": "2.7.6"
  }
 },
 "nbformat": 4,
 "nbformat_minor": 0
}