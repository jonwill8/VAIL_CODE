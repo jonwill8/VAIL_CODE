{
 "cells": [
  {
   "cell_type": "code",
   "execution_count": 1,
   "metadata": {
    "collapsed": true,
    "pycharm": {
     "name": "#%%\n"
    }
   },
   "outputs": [
    {
     "name": "stdout",
     "output_type": "stream",
     "text": [
      "1347\n",
      "2465\n",
      "3566\n",
      "4743\n",
      "5850\n",
      "7008\n",
      "8342\n",
      "9660\n",
      "10976\n",
      "12419\n",
      "13663\n",
      "15021\n",
      "16057\n",
      "17206\n",
      "18680\n",
      "19650\n",
      "20640\n",
      "21958\n",
      "23148\n",
      "24378\n",
      "25944\n",
      "26965\n",
      "27911\n",
      "28713\n",
      "29945\n",
      "31027\n",
      "32434\n",
      "33745\n",
      "34890\n",
      "35671\n",
      "36815\n",
      "37880\n",
      "39157\n",
      "40360\n",
      "41719\n",
      "42857\n",
      "43812\n",
      "44903\n",
      "45942\n",
      "47385\n",
      "48478\n",
      "49610\n",
      "50919\n",
      "51973\n",
      "53296\n",
      "54668\n",
      "55792\n",
      "56797\n",
      "58267\n",
      "59560\n",
      "60697\n",
      "61910\n",
      "63337\n",
      "64376\n",
      "65570\n",
      "67013\n",
      "68112\n",
      "69311\n",
      "70551\n",
      "71719\n",
      "72917\n",
      "74294\n",
      "75621\n",
      "76640\n",
      "77501\n",
      "78794\n",
      "79905\n",
      "81271\n",
      "82409\n",
      "83656\n",
      "84964\n",
      "85944\n",
      "87068\n",
      "88163\n",
      "89300\n",
      "90447\n",
      "91946\n",
      "93141\n",
      "94407\n",
      "95656\n",
      "96945\n",
      "97899\n",
      "99168\n",
      "100426\n",
      "102068\n",
      "103473\n",
      "104655\n",
      "105624\n",
      "106513\n"
     ]
    }
   ],
   "source": [
    "\"\"\"\n",
    "This cell walks through each subfile in SHH2_Data and process each csv/xml pair\n",
    "rr intervals are calculated for each epoch and corresponded with their sleep stage\n",
    "\"\"\"\n",
    "\n",
    "import pandas as pd\n",
    "import numpy as np\n",
    "import matplotlib.pyplot as plt\n",
    "import xml.etree.ElementTree as ET\n",
    "\n",
    "#making the macro df\n",
    "rri_sleep_df = pd.DataFrame(columns=['RR Interval','Sleep Stage'])\n",
    "\n",
    "#setting my directory path\n",
    "mypath = '/Users/jonathan.williams/Desktop/Desktop-s-will511/VAIL_AI/VAIL_AI_Code/Driver_Drowsiness/SHH2_Data'\n",
    "import os\n",
    "for entry in os.listdir(mypath):\n",
    "    if os.path.isdir(os.path.join(mypath, entry)):\n",
    "        sub_dir_path = os.path.join(mypath, entry)\n",
    "        for dirpath, dirnames, files in os.walk(sub_dir_path):\n",
    "            for file in reversed(sorted(files)): #ensuring that I read the csv file first\n",
    "                if file.endswith('.csv'):\n",
    "\n",
    "                    #working with a csv\n",
    "\n",
    "                    file_name = os.path.join(dirpath,file)\n",
    "\n",
    "                    #reading csv into df, dropping all cols except seconds and epoch\n",
    "                    ecg_df = pd.read_csv(file_name)\n",
    "                    ecg_df = ecg_df[['seconds','epoch']]\n",
    "\n",
    "\n",
    "                    #print(file_name)\n",
    "\n",
    "                elif file.endswith('.xml'):\n",
    "\n",
    "                    #working with hypnogram xml\n",
    "\n",
    "                    file_name = os.path.join(dirpath,file)\n",
    "\n",
    "                    xml_data = open(file_name, 'r').read()  # Read file\n",
    "                    root = ET.XML(xml_data)  # Parse XML\n",
    "\n",
    "                    data = []\n",
    "                    cols = []\n",
    "                    for i, child in enumerate(root):\n",
    "                        data.append([subchild.text for subchild in child])\n",
    "                        cols.append(child.tag)\n",
    "\n",
    "                    hypno_df = pd.DataFrame(data).T  # Write in DF and transpose it\n",
    "                    hypno_df.columns = cols  # Update column names\n",
    "\n",
    "                    #droping all other columns except the sleep stages\n",
    "                    hypno_df = hypno_df[['SleepStages']]\n",
    "\n",
    "                    #converting sleep_stages to an np array so we can directly pull corresponding sleep stage\n",
    "                    #note: the nth epoch from the ecg_df corresponds to the [0,nth] item in this np array\n",
    "                    sleep_stages_arr = hypno_df.to_numpy().reshape(1,-1)\n",
    "\n",
    "\n",
    "                    #print(file_name)\n",
    "\n",
    "\n",
    "                    #perfomring rr interval analysis and appending to our macro df:\n",
    "\n",
    "                    # init our rr interval list and sleep stage list\n",
    "                    rr_interval_list , sleep_stage_list = [] , []\n",
    "                    #setting the data log for row 1\n",
    "                    data_log = [ecg_df.iloc[0, :]]\n",
    "                    for row_index in range(1, len(ecg_df)):\n",
    "                        # pulling current row\n",
    "                        curr_log = ecg_df.iloc[row_index, :]\n",
    "                        curr_epoch = curr_log[-1]\n",
    "                        old_epoch = data_log[-1][-1]\n",
    "                        if curr_epoch != old_epoch:  # we have just hit a new epoch\n",
    "                            # performing old epoch calculations\n",
    "                            data_log_np = np.array(data_log)\n",
    "                            seconds_log = data_log_np[:, 0]\n",
    "                            rr_interval = np.diff(seconds_log)\n",
    "                            sleep_stage = int(sleep_stages_arr[0, int(old_epoch)])\n",
    "                            #storing rr_interval , and correpsonding sleep_stage in respective lists\n",
    "                            rr_interval_list.append(rr_interval.tolist())\n",
    "                            sleep_stage_list.append(int(sleep_stage))\n",
    "                            # storing rr_interval , sleep_stage in dictionary\n",
    "                            # resetting our data log list of lists and storing the curr_log\n",
    "                            data_log = [curr_log]\n",
    "                        else:\n",
    "                            # data still w/i epoch\n",
    "                            data_log.append(curr_log)\n",
    "\n",
    "                    # making temp df\n",
    "                    temp_rri_sleep_df = pd.DataFrame()\n",
    "                    temp_rri_sleep_df['RR Interval'] = rr_interval_list\n",
    "                    temp_rri_sleep_df['Sleep Stage'] = sleep_stage_list\n",
    "\n",
    "                    # appending temp df to macro\n",
    "                    rri_sleep_df = rri_sleep_df.append(temp_rri_sleep_df, ignore_index=True)\n",
    "                    print(len(rri_sleep_df))\n"
   ]
  },
  {
   "cell_type": "code",
   "execution_count": 4,
   "outputs": [],
   "source": [
    "import pandas as pd\n",
    "import numpy as np\n",
    "import matplotlib.pyplot as plt\n",
    "\n",
    "rri_sleep_df.head()\n",
    "rri_sleep_df.to_csv('/Users/jonathan.williams/Desktop/Desktop-s-will511/VAIL_AI/VAIL_AI_Code/Driver_Drowsiness/RRIS_Database.csv')"
   ],
   "metadata": {
    "collapsed": false,
    "pycharm": {
     "name": "#%%\n"
    }
   }
  },
  {
   "cell_type": "code",
   "execution_count": null,
   "outputs": [],
   "source": [
    "from ast import literal_eval\n",
    "rri_sleep_df.head()\n",
    "rri_sleep_df.tail()\n",
    "\n",
    "\n",
    "for row_index in range(len(rri_sleep_df)):\n",
    "  sample = rri_sleep_df.iloc[row_index]\n",
    "  rr_string_interval = sample['RR Interval']\n",
    "  print(process_intervals(rr_string_interval))"
   ],
   "metadata": {
    "collapsed": false,
    "pycharm": {
     "name": "#%%\n"
    }
   }
  },
  {
   "cell_type": "code",
   "source": [
    "def process_intervals(rr_string_interval):\n",
    "  nums = []\n",
    "  for char in rr_string_interval.split():\n",
    "    if char[0]=='[':\n",
    "      char = char[1:]\n",
    "    elif char[-1] == ']':\n",
    "      char = char[:-1]\n",
    "    nums.append(float(char))\n",
    "  return nums"
   ],
   "metadata": {
    "collapsed": false,
    "pycharm": {
     "name": "#%%\n"
    }
   },
   "execution_count": null,
   "outputs": []
  },
  {
   "cell_type": "code",
   "execution_count": null,
   "outputs": [],
   "source": [
    "\"\"\"\n",
    "#writing the final dataframe to a csv:\n",
    "csv_save_file_path = '/Users/jonathan.williams/Desktop/Desktop-s-will511/VAIL_AI/VAIL_AI_Code/Driver_Drowsiness/RRinterval_SleepStages_Dataset.csv'\n",
    "rri_sleep_df.to_csv(csv_save_file_path,encoding='utf-8',index=False)\n",
    "\"\"\""
   ],
   "metadata": {
    "collapsed": false,
    "pycharm": {
     "name": "#%%\n"
    }
   }
  },
  {
   "cell_type": "code",
   "execution_count": 8,
   "outputs": [
    {
     "name": "stdout",
     "output_type": "stream",
     "text": [
      "[0.875, 0.890625, 0.8828125, 0.875, 0.8359375, 0.84765625, 0.84765625, 0.83203125, 0.8671875, 0.85546875, 0.875, 0.890625, 0.87109375, 0.90234375, 0.87890625, 0.8828125, 0.86328125, 0.87890625, 0.8828125, 0.88671875, 0.8828125, 0.88671875, 0.8671875, 0.84765625, 0.83203125, 0.828125, 0.85546875, 0.828125, 0.84765625, 0.8515625, 0.859375, 0.87890625, 0.86328125, 0.87890625]\n",
      "0\n"
     ]
    }
   ],
   "source": [
    "test = rri_sleep_df.iloc[0]\n",
    "print(test['RR Interval'])\n",
    "print(test['Sleep Stage'])"
   ],
   "metadata": {
    "collapsed": false,
    "pycharm": {
     "name": "#%%\n"
    }
   }
  },
  {
   "cell_type": "code",
   "execution_count": null,
   "outputs": [],
   "source": [],
   "metadata": {
    "collapsed": false,
    "pycharm": {
     "name": "#%%\n"
    }
   }
  }
 ],
 "metadata": {
  "kernelspec": {
   "display_name": "Python 3",
   "language": "python",
   "name": "python3"
  },
  "language_info": {
   "codemirror_mode": {
    "name": "ipython",
    "version": 2
   },
   "file_extension": ".py",
   "mimetype": "text/x-python",
   "name": "python",
   "nbconvert_exporter": "python",
   "pygments_lexer": "ipython2",
   "version": "2.7.6"
  }
 },
 "nbformat": 4,
 "nbformat_minor": 0
}