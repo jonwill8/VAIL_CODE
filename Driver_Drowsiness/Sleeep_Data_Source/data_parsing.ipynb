{
 "cells": [
  {
   "cell_type": "code",
   "execution_count": 2,
   "metadata": {
    "collapsed": true
   },
   "outputs": [
    {
     "name": "stdout",
     "output_type": "stream",
     "text": [
      "Collecting mne\r\n",
      "  Downloading mne-0.22.0-py3-none-any.whl (6.9 MB)\r\n",
      "\u001B[K     |████████████████████████████████| 6.9 MB 1.1 MB/s eta 0:00:01\r\n",
      "\u001B[?25hRequirement already satisfied: scipy>=0.17.1 in /opt/anaconda3/envs/VAIL_AI_CODE/lib/python3.8/site-packages (from mne) (1.6.0)\r\n",
      "Requirement already satisfied: numpy>=1.11.3 in /opt/anaconda3/envs/VAIL_AI_CODE/lib/python3.8/site-packages (from mne) (1.19.5)\r\n",
      "Installing collected packages: mne\r\n",
      "Successfully installed mne-0.22.0\r\n",
      "Extracting EDF parameters from /Users/jonathan.williams/Desktop/Desktop-s-will511/VAIL_AI/VAIL_AI_Code/Driver_Drowsiness/Sleeep_Data_Source/learn-nsrr01.edf...\n",
      "EDF file detected\n",
      "Setting channel info structure...\n",
      "Creating raw.info structure...\n"
     ]
    }
   ],
   "source": [
    "#experimenting with directly reading edf rile into np array\n",
    "import mne\n",
    "file = \"/Users/jonathan.williams/Desktop/Desktop-s-will511/VAIL_AI/VAIL_AI_Code/Driver_Drowsiness/Sleeep_Data_Source/learn-nsrr01.edf\"\n",
    "data = mne.io.read_raw_edf(file)\n",
    "raw_data = data.get_data()\n",
    "# you can get the metadata included in the file and a list of all channels:\n",
    "info = data.info\n",
    "channels = data.ch_names"
   ]
  },
  {
   "cell_type": "markdown",
   "source": [
    "# TODO:\n",
    "* Solidify a means of parsing ECG vs sleep classification data. Since we simply care about classifying wake vs drowsy|sleep, we may have to modify data to create binary classification\n",
    "* Figure out how to transform ECG time series data into instantaneous heart rate (IHR) time series data for model input (we can also experiment with transforming ECG time series data --> HRV time series data)\n",
    "        * potentially helpful libraries:\n",
    "            1. [ecg to ihr](https://python-heart-rate-analysis-toolkit.readthedocs.io/en/latest/apiref.html)\n",
    "            2. [ecg to hrv](https://pyhrv.readthedocs.io/en/latest/_pages/api/hrv.html)\n",
    "* Research Optimal Model Types/Architectures. Papers that I have seen typically used either CNN/MLP\n",
    "\n",
    "Helpful Links:\n",
    "\n",
    "https://blog.orikami.nl/exploring-heart-rate-variability-using-python-483a7037c64d\n"
   ],
   "metadata": {
    "collapsed": false,
    "pycharm": {
     "name": "#%% md\n"
    }
   }
  }
 ],
 "metadata": {
  "kernelspec": {
   "display_name": "Python 3",
   "language": "python",
   "name": "python3"
  },
  "language_info": {
   "codemirror_mode": {
    "name": "ipython",
    "version": 2
   },
   "file_extension": ".py",
   "mimetype": "text/x-python",
   "name": "python",
   "nbconvert_exporter": "python",
   "pygments_lexer": "ipython2",
   "version": "2.7.6"
  }
 },
 "nbformat": 4,
 "nbformat_minor": 0
}