{
 "cells": [
  {
   "cell_type": "markdown",
   "metadata": {
    "collapsed": true,
    "pycharm": {
     "name": "#%% md\n"
    }
   },
   "source": [
    "# This notebook explores employing our homebrew Neural Network for MNIST Image Classification"
   ]
  },
  {
   "cell_type": "code",
   "execution_count": 1,
   "outputs": [],
   "source": [
    "#making imports\n",
    "import numpy as np\n",
    "from keras.datasets import mnist\n",
    "from keras.utils import np_utils\n",
    "from Network import Network"
   ],
   "metadata": {
    "collapsed": false,
    "pycharm": {
     "name": "#%%\n"
    }
   }
  },
  {
   "cell_type": "code",
   "execution_count": 2,
   "outputs": [],
   "source": [
    "# load MNIST from server\n",
    "(x_train, y_train), (x_test, y_test) = mnist.load_data()\n",
    "\n",
    "# reshaping & normalizing x_train data\n",
    "x_train = x_train.reshape(x_train.shape[0], 1, 28 * 28)\n",
    "x_train = x_train.astype('float32')\n",
    "x_train /= 255\n",
    "\n",
    "# hot encoding y_train vector\n",
    "y_train = np_utils.to_categorical(y_train)\n",
    "\n",
    "# reshaping & normalizing y_train data\n",
    "x_test = x_test.reshape(x_test.shape[0], 1, 28 * 28)\n",
    "x_test = x_test.astype('float32')\n",
    "x_test /= 255\n",
    "y_test = np_utils.to_categorical(y_test)\n",
    "\n",
    "# taking 4000 sub-samples:\n",
    "x_train_trunc = x_train[0:4000]\n",
    "y_train_trunc = y_train[0:4000]\n",
    "\n",
    "# testing on 50 samples\n",
    "x_test_trunc = x_test[0:400]\n",
    "y_test_trunc = y_test[0:400]\n",
    "\n",
    "# reshaping data to conform to our model 2d np array standards\n",
    "x_train_trunc = np.reshape(x_train_trunc, (x_train_trunc.shape[0], x_train_trunc.shape[2]))\n",
    "# y_train_trunc = np.reshape(y_train_trunc, (y_train_trunc.shape[0], y_train_trunc.shape[2]))\n",
    "x_test_trunc = np.reshape(x_test_trunc, (x_test_trunc.shape[0], x_test_trunc.shape[2]))\n",
    "# y_test_trunc =  np.reshape(y_test_trunc, (y_test_trunc.shape[0], y_test_trunc.shape[2]))"
   ],
   "metadata": {
    "collapsed": false,
    "pycharm": {
     "name": "#%%\n"
    }
   }
  },
  {
   "cell_type": "code",
   "execution_count": 3,
   "outputs": [
    {
     "name": "stdout",
     "output_type": "stream",
     "text": [
      "Epoch #: 1 | Latest Error\" 0.6249972081577382\n",
      "Epoch #: 2 | Latest Error\" 0.7900438510752494\n",
      "Epoch #: 3 | Latest Error\" 0.00525816895631149\n",
      "Epoch #: 4 | Latest Error\" 0.01580852380659172\n",
      "Epoch #: 5 | Latest Error\" 0.6538925545425777\n",
      "Epoch #: 6 | Latest Error\" 0.0012443134902014499\n",
      "Epoch #: 7 | Latest Error\" 0.00819173286960559\n",
      "Epoch #: 8 | Latest Error\" 0.05365383593932237\n",
      "Epoch #: 9 | Latest Error\" 0.001212501742576568\n",
      "Epoch #: 10 | Latest Error\" 0.0003504109707102245\n",
      "Epoch #: 11 | Latest Error\" 0.0010128866060036465\n",
      "Epoch #: 12 | Latest Error\" 0.03577640967529235\n",
      "Epoch #: 13 | Latest Error\" 0.0018224011674686388\n",
      "Epoch #: 14 | Latest Error\" 0.007862080518649962\n",
      "Epoch #: 15 | Latest Error\" 0.8378177070619324\n",
      "Epoch #: 16 | Latest Error\" 1.4178178327415945\n",
      "Epoch #: 17 | Latest Error\" 0.002801011482506106\n",
      "Epoch #: 18 | Latest Error\" 0.23424745698760532\n",
      "Epoch #: 19 | Latest Error\" 0.0018637579622156843\n",
      "Epoch #: 20 | Latest Error\" 0.9274208556646101\n",
      "Epoch #: 21 | Latest Error\" 0.09661032180919057\n",
      "Epoch #: 22 | Latest Error\" 0.0007948868028486184\n",
      "Epoch #: 23 | Latest Error\" 0.012021399976183175\n",
      "Epoch #: 24 | Latest Error\" 0.010135055827533422\n",
      "Epoch #: 25 | Latest Error\" 0.1909233191909481\n",
      "Epoch #: 26 | Latest Error\" 0.0004880473968755286\n",
      "Epoch #: 27 | Latest Error\" 0.0003042711458849811\n",
      "Epoch #: 28 | Latest Error\" 0.0004317002934689073\n",
      "Epoch #: 29 | Latest Error\" 0.00030704428240712397\n",
      "Epoch #: 30 | Latest Error\" 0.0009444260633230336\n",
      "Epoch #: 31 | Latest Error\" 0.00010662655358569078\n",
      "Epoch #: 32 | Latest Error\" 0.0012789113755672116\n",
      "Epoch #: 33 | Latest Error\" 0.0007801380378618349\n",
      "Epoch #: 34 | Latest Error\" 0.0018648439130760613\n",
      "Epoch #: 35 | Latest Error\" 0.0001234311622748787\n",
      "The Multinomial Classification Model has an accuracy of 91.5%\n"
     ]
    },
    {
     "data": {
      "text/plain": "<Figure size 432x288 with 1 Axes>",
      "image/png": "[encoded data removed]"
     },
     "metadata": {
      "needs_background": "light"
     },
     "output_type": "display_data"
    }
   ],
   "source": [
    "# creating our model\n",
    "model = Network('mse', x_train_trunc, y_train_trunc, x_test_trunc, y_test_trunc, x_features=784, epoch_num=35,\n",
    "                layer_num=3, layer_depths=[100, 50, 10], batch_num=2000, learn_rate=0.01)\n",
    "\n",
    "# adding our tangent hyperbolic hidden layers\n",
    "model.add_Layer('relu', 'initial_hidden')\n",
    "model.add_Layer('relu', 'hidden')\n",
    "\n",
    "# adding output layer\n",
    "model.add_Layer('sigmoid', 'output')\n",
    "\n",
    "# training model\n",
    "model.train()\n",
    "\n",
    "# plotting model error while training\n",
    "model.plot_train_error()\n",
    "\n",
    "# printing model predictions for some test samples\n",
    "model.test_multinomial_classification()"
   ],
   "metadata": {
    "collapsed": false,
    "pycharm": {
     "name": "#%%\n"
    }
   }
  },
  {
   "cell_type": "code",
   "execution_count": 3,
   "outputs": [],
   "source": [],
   "metadata": {
    "collapsed": false,
    "pycharm": {
     "name": "#%%\n"
    }
   }
  }
 ],
 "metadata": {
  "kernelspec": {
   "display_name": "Python 3",
   "language": "python",
   "name": "python3"
  },
  "language_info": {
   "codemirror_mode": {
    "name": "ipython",
    "version": 2
   },
   "file_extension": ".py",
   "mimetype": "text/x-python",
   "name": "python",
   "nbconvert_exporter": "python",
   "pygments_lexer": "ipython2",
   "version": "2.7.6"
  }
 },
 "nbformat": 4,
 "nbformat_minor": 0
}