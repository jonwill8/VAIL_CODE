{
 "cells": [
  {
   "cell_type": "markdown",
   "metadata": {
    "collapsed": true,
    "pycharm": {
     "name": "#%% md\n"
    }
   },
   "source": [
    "# This notebook explores employing our homebrew Neural Network for MNIST Image Classification"
   ]
  },
  {
   "cell_type": "code",
   "execution_count": 1,
   "outputs": [],
   "source": [
    "#making imports\n",
    "import numpy as np\n",
    "from keras.datasets import mnist\n",
    "from keras.utils import np_utils\n",
    "from Network import Network"
   ],
   "metadata": {
    "collapsed": false,
    "pycharm": {
     "name": "#%%\n"
    }
   }
  },
  {
   "cell_type": "code",
   "execution_count": 2,
   "outputs": [],
   "source": [
    "# load MNIST from server\n",
    "(x_train, y_train), (x_test, y_test) = mnist.load_data()\n",
    "\n",
    "# reshaping & normalizing x_train data\n",
    "x_train = x_train.reshape(x_train.shape[0], 1, 28 * 28)\n",
    "x_train = x_train.astype('float32')\n",
    "x_train /= 255\n",
    "\n",
    "# hot encoding y_train vector\n",
    "y_train = np_utils.to_categorical(y_train)\n",
    "\n",
    "# reshaping & normalizing y_train data\n",
    "x_test = x_test.reshape(x_test.shape[0], 1, 28 * 28)\n",
    "x_test = x_test.astype('float32')\n",
    "x_test /= 255\n",
    "y_test = np_utils.to_categorical(y_test)\n",
    "\n",
    "# taking 4000 sub-samples:\n",
    "x_train_trunc = x_train[0:4000]\n",
    "y_train_trunc = y_train[0:4000]\n",
    "\n",
    "# testing on 50 samples\n",
    "x_test_trunc = x_test[0:400]\n",
    "y_test_trunc = y_test[0:400]\n",
    "\n",
    "# reshaping data to conform to our model 2d np array standards\n",
    "x_train_trunc = np.reshape(x_train_trunc, (x_train_trunc.shape[0], x_train_trunc.shape[2]))\n",
    "# y_train_trunc = np.reshape(y_train_trunc, (y_train_trunc.shape[0], y_train_trunc.shape[2]))\n",
    "x_test_trunc = np.reshape(x_test_trunc, (x_test_trunc.shape[0], x_test_trunc.shape[2]))\n",
    "# y_test_trunc =  np.reshape(y_test_trunc, (y_test_trunc.shape[0], y_test_trunc.shape[2]))"
   ],
   "metadata": {
    "collapsed": false,
    "pycharm": {
     "name": "#%%\n"
    }
   }
  },
  {
   "cell_type": "code",
   "execution_count": 3,
   "outputs": [
    {
     "name": "stdout",
     "output_type": "stream",
     "text": [
      "Epoch #: 1 | Most Recent Error\" 0.026682832116385096\n",
      "Epoch #: 2 | Most Recent Error\" 0.0005942739101554783\n",
      "Epoch #: 3 | Most Recent Error\" 0.6863174539163882\n",
      "Epoch #: 4 | Most Recent Error\" 0.0004093573215770223\n",
      "Epoch #: 5 | Most Recent Error\" 0.0030467130081625153\n",
      "Epoch #: 6 | Most Recent Error\" 0.0331525129086378\n",
      "Epoch #: 7 | Most Recent Error\" 0.0005962471362642794\n",
      "Epoch #: 8 | Most Recent Error\" 0.0004396269196300423\n",
      "Epoch #: 9 | Most Recent Error\" 0.13418214365142\n",
      "Epoch #: 10 | Most Recent Error\" 0.026644407425927205\n",
      "Epoch #: 11 | Most Recent Error\" 0.0041673364807570225\n",
      "Epoch #: 12 | Most Recent Error\" 0.004722179752319543\n",
      "Epoch #: 13 | Most Recent Error\" 1.0309487392542524e-06\n",
      "Epoch #: 14 | Most Recent Error\" 5.966929086565882e-05\n",
      "Epoch #: 15 | Most Recent Error\" 1.2311612398644328e-06\n",
      "Epoch #: 16 | Most Recent Error\" 0.024399884936408336\n",
      "Epoch #: 17 | Most Recent Error\" 1.0417594482166789e-05\n",
      "Epoch #: 18 | Most Recent Error\" 0.00042932121266563156\n",
      "Epoch #: 19 | Most Recent Error\" 0.007372854855658722\n",
      "Epoch #: 20 | Most Recent Error\" 1.8217864353705674e-05\n",
      "Epoch #: 21 | Most Recent Error\" 7.846935532463046e-07\n",
      "Epoch #: 22 | Most Recent Error\" 3.6432218192905045e-06\n",
      "Epoch #: 23 | Most Recent Error\" 0.0007315642537348249\n",
      "Epoch #: 24 | Most Recent Error\" 3.7263962544680633e-07\n",
      "Epoch #: 25 | Most Recent Error\" 1.859093688973106e-09\n",
      "Epoch #: 26 | Most Recent Error\" 0.0015580427631505071\n",
      "Epoch #: 27 | Most Recent Error\" 5.942118495689799e-05\n",
      "Epoch #: 28 | Most Recent Error\" 0.003677594797586345\n",
      "Epoch #: 29 | Most Recent Error\" 1.2898407260494946e-07\n",
      "Epoch #: 30 | Most Recent Error\" 0.001975182611185071\n",
      "Epoch #: 31 | Most Recent Error\" 1.5849019452462615e-08\n",
      "Epoch #: 32 | Most Recent Error\" 3.390455478304694e-05\n",
      "Epoch #: 33 | Most Recent Error\" 0.0001249305689789002\n",
      "Epoch #: 34 | Most Recent Error\" 1.8599074438185802e-06\n",
      "Epoch #: 35 | Most Recent Error\" 3.8438781269195796e-07\n",
      "The Multinomial Classification Model has an accuracy of 94.0%\n"
     ]
    },
    {
     "data": {
      "text/plain": "<Figure size 432x288 with 1 Axes>",
      "image/png": "[encoded data removed]"
     },
     "metadata": {
      "needs_background": "light"
     },
     "output_type": "display_data"
    }
   ],
   "source": [
    "# creating our model\n",
    "model = Network('mse', x_train_trunc, y_train_trunc, x_test_trunc, y_test_trunc, x_features=784, epoch_num=35,\n",
    "                layer_num=3, layer_depths=[100, 50, 10], learn_rate=0.1)\n",
    "\n",
    "# adding our tangent hyperbolic hidden layers\n",
    "model.add_Layer('relu', 'initial_hidden')\n",
    "model.add_Layer('relu', 'hidden')\n",
    "\n",
    "# adding output layer\n",
    "model.add_Layer('sigmoid', 'output')\n",
    "\n",
    "# training model\n",
    "model.train()\n",
    "\n",
    "# plotting model error while training\n",
    "model.plot_train_error()\n",
    "\n",
    "# printing model predictions for some test samples\n",
    "model.test_multinomial_classification()\n"
   ],
   "metadata": {
    "collapsed": false,
    "pycharm": {
     "name": "#%%\n"
    }
   }
  }
 ],
 "metadata": {
  "kernelspec": {
   "display_name": "Python 3",
   "language": "python",
   "name": "python3"
  },
  "language_info": {
   "codemirror_mode": {
    "name": "ipython",
    "version": 2
   },
   "file_extension": ".py",
   "mimetype": "text/x-python",
   "name": "python",
   "nbconvert_exporter": "python",
   "pygments_lexer": "ipython2",
   "version": "2.7.6"
  }
 },
 "nbformat": 4,
 "nbformat_minor": 0
}