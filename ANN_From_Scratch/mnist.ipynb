{
 "cells": [
  {
   "cell_type": "markdown",
   "metadata": {
    "collapsed": true,
    "pycharm": {
     "name": "#%% md\n"
    }
   },
   "source": [
    "# This notebook explores employing our homebrew Neural Network for MNIST Image Classification"
   ]
  },
  {
   "cell_type": "code",
   "execution_count": 1,
   "outputs": [],
   "source": [
    "#making imports\n",
    "import numpy as np\n",
    "from keras.datasets import mnist\n",
    "from keras.utils import np_utils\n",
    "from Network import Network"
   ],
   "metadata": {
    "collapsed": false,
    "pycharm": {
     "name": "#%%\n"
    }
   }
  },
  {
   "cell_type": "code",
   "execution_count": 2,
   "outputs": [],
   "source": [
    "# load MNIST from server\n",
    "(x_train, y_train), (x_test, y_test) = mnist.load_data()\n",
    "\n",
    "# reshaping & normalizing x_train data\n",
    "x_train = x_train.reshape(x_train.shape[0], 1, 28 * 28)\n",
    "x_train = x_train.astype('float32')\n",
    "x_train /= 255\n",
    "\n",
    "# hot encoding y_train vector\n",
    "y_train = np_utils.to_categorical(y_train)\n",
    "\n",
    "# reshaping & normalizing y_train data\n",
    "x_test = x_test.reshape(x_test.shape[0], 1, 28 * 28)\n",
    "x_test = x_test.astype('float32')\n",
    "x_test /= 255\n",
    "y_test = np_utils.to_categorical(y_test)\n",
    "\n",
    "# taking 4000 sub-samples:\n",
    "x_train_trunc = x_train[0:4000]\n",
    "y_train_trunc = y_train[0:4000]\n",
    "\n",
    "# testing on 50 samples\n",
    "x_test_trunc = x_test[0:400]\n",
    "y_test_trunc = y_test[0:400]\n",
    "\n",
    "# reshaping data to conform to our model 2d np array standards\n",
    "x_train_trunc = np.reshape(x_train_trunc, (x_train_trunc.shape[0], x_train_trunc.shape[2]))\n",
    "# y_train_trunc = np.reshape(y_train_trunc, (y_train_trunc.shape[0], y_train_trunc.shape[2]))\n",
    "x_test_trunc = np.reshape(x_test_trunc, (x_test_trunc.shape[0], x_test_trunc.shape[2]))\n",
    "# y_test_trunc =  np.reshape(y_test_trunc, (y_test_trunc.shape[0], y_test_trunc.shape[2]))"
   ],
   "metadata": {
    "collapsed": false,
    "pycharm": {
     "name": "#%%\n"
    }
   }
  },
  {
   "cell_type": "code",
   "execution_count": 4,
   "outputs": [
    {
     "name": "stdout",
     "output_type": "stream",
     "text": [
      "Epoch #: 1 | Most Recent Error\" 0.16803490765964563\n",
      "Epoch #: 2 | Most Recent Error\" 2.0642746955005298\n",
      "Epoch #: 3 | Most Recent Error\" 0.02660111496216719\n",
      "Epoch #: 4 | Most Recent Error\" 0.14647568021515742\n",
      "Epoch #: 5 | Most Recent Error\" 0.07000942710268854\n",
      "Epoch #: 6 | Most Recent Error\" 0.005136509970491308\n",
      "Epoch #: 7 | Most Recent Error\" 0.0018622585612090047\n",
      "Epoch #: 8 | Most Recent Error\" 0.0008725560176243397\n",
      "Epoch #: 9 | Most Recent Error\" 0.003996394621018354\n",
      "Epoch #: 10 | Most Recent Error\" 0.007076148525543025\n",
      "Epoch #: 11 | Most Recent Error\" 0.0011734598158945372\n",
      "Epoch #: 12 | Most Recent Error\" 0.91103076872205\n",
      "Epoch #: 13 | Most Recent Error\" 1.0453644348760507\n",
      "Epoch #: 14 | Most Recent Error\" 0.010864080395280288\n",
      "Epoch #: 15 | Most Recent Error\" 0.0442081798943018\n",
      "Epoch #: 16 | Most Recent Error\" 0.0038316838426846783\n",
      "Epoch #: 17 | Most Recent Error\" 0.0006835121508932084\n",
      "Epoch #: 18 | Most Recent Error\" 0.0017672499474986566\n",
      "Epoch #: 19 | Most Recent Error\" 0.0004061952880765519\n",
      "Epoch #: 20 | Most Recent Error\" 0.00822389784664908\n",
      "Epoch #: 21 | Most Recent Error\" 0.0003796795060045798\n",
      "Epoch #: 22 | Most Recent Error\" 0.0005858955473113369\n",
      "Epoch #: 23 | Most Recent Error\" 0.0008296063948662247\n",
      "Epoch #: 24 | Most Recent Error\" 0.0030341002833938957\n",
      "Epoch #: 25 | Most Recent Error\" 0.0015226872535592224\n",
      "Epoch #: 26 | Most Recent Error\" 0.0013269358038223327\n",
      "Epoch #: 27 | Most Recent Error\" 0.0007453274351898419\n",
      "Epoch #: 28 | Most Recent Error\" 2.2783922978295428e-05\n",
      "Epoch #: 29 | Most Recent Error\" 6.776849971130985e-05\n",
      "Epoch #: 30 | Most Recent Error\" 0.001284286824475568\n",
      "Epoch #: 31 | Most Recent Error\" 0.011026801916114732\n",
      "Epoch #: 32 | Most Recent Error\" 0.0010054326992361801\n",
      "Epoch #: 33 | Most Recent Error\" 0.0008563631141899863\n",
      "Epoch #: 34 | Most Recent Error\" 0.00010886452096284458\n",
      "Epoch #: 35 | Most Recent Error\" 0.00026281024835485137\n",
      "The Multinomial Classification Model has an accuracy of 93.25%\n"
     ]
    },
    {
     "data": {
      "text/plain": "<Figure size 432x288 with 1 Axes>",
      "image/png": "[encoded data removed]"
     },
     "metadata": {
      "needs_background": "light"
     },
     "output_type": "display_data"
    }
   ],
   "source": [
    "# creating our model\n",
    "model = Network('mse', x_train_trunc, y_train_trunc, x_test_trunc, y_test_trunc, x_features=784, epoch_num=35,\n",
    "                layer_num=3, layer_depths=[100, 50, 10], learn_rate=0.1)\n",
    "\n",
    "# adding our tangent hyperbolic hidden layers\n",
    "model.add_Layer('relu', 'initial_hidden')\n",
    "model.add_Layer('relu', 'hidden')\n",
    "\n",
    "# adding output layer\n",
    "model.add_Layer('tanhyp', 'output')\n",
    "\n",
    "# training model\n",
    "model.train()\n",
    "\n",
    "# plotting model error while training\n",
    "model.plot_train_error()\n",
    "\n",
    "# printing model predictions for some test samples\n",
    "model.test_multinomial_classification()"
   ],
   "metadata": {
    "collapsed": false,
    "pycharm": {
     "name": "#%%\n"
    }
   }
  },
  {
   "cell_type": "code",
   "execution_count": null,
   "outputs": [],
   "source": [],
   "metadata": {
    "collapsed": false,
    "pycharm": {
     "name": "#%%\n"
    }
   }
  }
 ],
 "metadata": {
  "kernelspec": {
   "display_name": "Python 3",
   "language": "python",
   "name": "python3"
  },
  "language_info": {
   "codemirror_mode": {
    "name": "ipython",
    "version": 2
   },
   "file_extension": ".py",
   "mimetype": "text/x-python",
   "name": "python",
   "nbconvert_exporter": "python",
   "pygments_lexer": "ipython2",
   "version": "2.7.6"
  }
 },
 "nbformat": 4,
 "nbformat_minor": 0
}