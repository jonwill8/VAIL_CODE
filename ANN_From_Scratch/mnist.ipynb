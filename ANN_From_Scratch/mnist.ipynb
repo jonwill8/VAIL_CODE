{
 "cells": [
  {
   "cell_type": "markdown",
   "metadata": {
    "collapsed": true,
    "pycharm": {
     "name": "#%% md\n"
    }
   },
   "source": [
    "# This notebook explores employing our homebrew Neural Network for MNIST Image Classification"
   ]
  },
  {
   "cell_type": "code",
   "execution_count": 8,
   "outputs": [],
   "source": [
    "#making imports\n",
    "import numpy as np\n",
    "from keras.datasets import mnist\n",
    "from keras.utils import np_utils\n",
    "from Network import Network"
   ],
   "metadata": {
    "collapsed": false,
    "pycharm": {
     "name": "#%%\n"
    }
   }
  },
  {
   "cell_type": "code",
   "execution_count": 9,
   "outputs": [],
   "source": [
    "# load MNIST from server\n",
    "(x_train, y_train), (x_test, y_test) = mnist.load_data()\n",
    "\n",
    "# reshaping & normalizing x_train data\n",
    "x_train = x_train.reshape(x_train.shape[0], 1, 28 * 28)\n",
    "x_train = x_train.astype('float32')\n",
    "x_train /= 255\n",
    "\n",
    "# hot encoding y_train vector\n",
    "y_train = np_utils.to_categorical(y_train)\n",
    "\n",
    "# reshaping & normalizing y_train data\n",
    "x_test = x_test.reshape(x_test.shape[0], 1, 28 * 28)\n",
    "x_test = x_test.astype('float32')\n",
    "x_test /= 255\n",
    "y_test = np_utils.to_categorical(y_test)\n",
    "\n",
    "# taking 4000 sub-samples:\n",
    "x_train_trunc = x_train[0:4000]\n",
    "y_train_trunc = y_train[0:4000]\n",
    "\n",
    "# testing on 50 samples\n",
    "x_test_trunc = x_test[0:400]\n",
    "y_test_trunc = y_test[0:400]\n",
    "\n",
    "# reshaping data to conform to our model 2d np array standards\n",
    "x_train_trunc = np.reshape(x_train_trunc, (x_train_trunc.shape[0], x_train_trunc.shape[2]))\n",
    "# y_train_trunc = np.reshape(y_train_trunc, (y_train_trunc.shape[0], y_train_trunc.shape[2]))\n",
    "x_test_trunc = np.reshape(x_test_trunc, (x_test_trunc.shape[0], x_test_trunc.shape[2]))\n",
    "# y_test_trunc =  np.reshape(y_test_trunc, (y_test_trunc.shape[0], y_test_trunc.shape[2]))"
   ],
   "metadata": {
    "collapsed": false,
    "pycharm": {
     "name": "#%%\n"
    }
   }
  },
  {
   "cell_type": "code",
   "execution_count": 13,
   "outputs": [
    {
     "name": "stdout",
     "output_type": "stream",
     "text": [
      "Epoch #: 1 | Most Recent Error\" 0.021215827387652843\n",
      "Epoch #: 2 | Most Recent Error\" 0.10409844728302994\n",
      "Epoch #: 3 | Most Recent Error\" 0.04203558552964443\n",
      "Epoch #: 4 | Most Recent Error\" 0.8762887461119062\n",
      "Epoch #: 5 | Most Recent Error\" 0.00014074866776071305\n",
      "Epoch #: 6 | Most Recent Error\" 0.002200666714330383\n",
      "Epoch #: 7 | Most Recent Error\" 0.018528602898532098\n",
      "Epoch #: 8 | Most Recent Error\" 0.08527689012489749\n",
      "Epoch #: 9 | Most Recent Error\" 0.09398020556987464\n",
      "Epoch #: 10 | Most Recent Error\" 0.003977528182767065\n",
      "Epoch #: 11 | Most Recent Error\" 0.12686488982544436\n",
      "Epoch #: 12 | Most Recent Error\" 4.0937530642270736e-05\n",
      "Epoch #: 13 | Most Recent Error\" 0.0017008364588358142\n",
      "Epoch #: 14 | Most Recent Error\" 0.03518861295436716\n",
      "Epoch #: 15 | Most Recent Error\" 1.0833204846589411e-05\n",
      "Epoch #: 16 | Most Recent Error\" 2.4623558314026878e-05\n",
      "Epoch #: 17 | Most Recent Error\" 4.1945879938336645e-05\n",
      "Epoch #: 18 | Most Recent Error\" 0.0003298669887193818\n",
      "Epoch #: 19 | Most Recent Error\" 0.004630795516794396\n",
      "Epoch #: 20 | Most Recent Error\" 0.01713528529908255\n",
      "Epoch #: 21 | Most Recent Error\" 0.0002402727550743009\n",
      "Epoch #: 22 | Most Recent Error\" 7.171748939385256e-05\n",
      "Epoch #: 23 | Most Recent Error\" 0.0010677281393019443\n",
      "Epoch #: 24 | Most Recent Error\" 0.00022828505696761284\n",
      "Epoch #: 25 | Most Recent Error\" 4.860608431082357e-07\n",
      "Epoch #: 26 | Most Recent Error\" 0.03212757645098398\n",
      "Epoch #: 27 | Most Recent Error\" 0.00015070251597630423\n",
      "Epoch #: 28 | Most Recent Error\" 8.88548883147434e-05\n",
      "Epoch #: 29 | Most Recent Error\" 0.0006633143644804958\n",
      "Epoch #: 30 | Most Recent Error\" 6.1022481885168866e-05\n",
      "Epoch #: 31 | Most Recent Error\" 0.000837806542188656\n",
      "Epoch #: 32 | Most Recent Error\" 0.000376722538976666\n",
      "Epoch #: 33 | Most Recent Error\" 0.000429749787784572\n",
      "Epoch #: 34 | Most Recent Error\" 2.585773822965915e-07\n",
      "Epoch #: 35 | Most Recent Error\" 2.991255125264462e-06\n",
      "The Multinomial Classification Model has an accuracy of 94.25%\n"
     ]
    },
    {
     "data": {
      "text/plain": "<Figure size 432x288 with 1 Axes>",
      "image/png": "[encoded data removed]"
     },
     "metadata": {
      "needs_background": "light"
     },
     "output_type": "display_data"
    }
   ],
   "source": [
    "# creating our model\n",
    "model = Network('mse', x_train_trunc, y_train_trunc, x_test_trunc, y_test_trunc, x_features=784, epoch_num=35,\n",
    "                layer_num=3, layer_depths=[100, 50, 10], learn_rate=0.05)\n",
    "\n",
    "# adding our tangent hyperbolic hidden layers\n",
    "model.add_Layer('relu', 'initial_hidden')\n",
    "model.add_Layer('relu', 'hidden')\n",
    "\n",
    "# adding output layer\n",
    "model.add_Layer('sigmoid', 'output')\n",
    "\n",
    "# training model\n",
    "model.train()\n",
    "\n",
    "# plotting model error while training\n",
    "model.plot_train_error()\n",
    "\n",
    "# printing model predictions for some test samples\n",
    "model.test_multinomial_classification()"
   ],
   "metadata": {
    "collapsed": false,
    "pycharm": {
     "name": "#%%\n"
    }
   }
  },
  {
   "cell_type": "code",
   "execution_count": 10,
   "outputs": [],
   "source": [],
   "metadata": {
    "collapsed": false,
    "pycharm": {
     "name": "#%%\n"
    }
   }
  }
 ],
 "metadata": {
  "kernelspec": {
   "display_name": "Python 3",
   "language": "python",
   "name": "python3"
  },
  "language_info": {
   "codemirror_mode": {
    "name": "ipython",
    "version": 2
   },
   "file_extension": ".py",
   "mimetype": "text/x-python",
   "name": "python",
   "nbconvert_exporter": "python",
   "pygments_lexer": "ipython2",
   "version": "2.7.6"
  }
 },
 "nbformat": 4,
 "nbformat_minor": 0
}