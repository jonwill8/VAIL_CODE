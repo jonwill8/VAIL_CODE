{
 "cells": [
  {
   "cell_type": "markdown",
   "metadata": {
    "collapsed": true,
    "pycharm": {
     "name": "#%% md\n"
    }
   },
   "source": [
    "# This notebook explores employing our homebrew Neural Network for MNIST Image Classification"
   ]
  },
  {
   "cell_type": "code",
   "execution_count": 1,
   "metadata": {
    "pycharm": {
     "name": "#%%\n"
    }
   },
   "outputs": [],
   "source": [
    "#making imports\n",
    "import numpy as np\n",
    "from keras.datasets import mnist\n",
    "from keras.utils import np_utils\n",
    "from Network import Network"
   ]
  },
  {
   "cell_type": "code",
   "execution_count": 2,
   "metadata": {
    "pycharm": {
     "name": "#%%\n"
    }
   },
   "outputs": [],
   "source": [
    "# load MNIST from server\n",
    "(x_train, y_train), (x_test, y_test) = mnist.load_data()\n",
    "\n",
    "# reshaping & normalizing x_train data\n",
    "x_train = x_train.reshape(x_train.shape[0], 1, 28 * 28)\n",
    "x_train = x_train.astype('float32')\n",
    "x_train /= 255\n",
    "\n",
    "# hot encoding y_train vector\n",
    "y_train = np_utils.to_categorical(y_train)\n",
    "\n",
    "# reshaping & normalizing y_train data\n",
    "x_test = x_test.reshape(x_test.shape[0], 1, 28 * 28)\n",
    "x_test = x_test.astype('float32')\n",
    "x_test /= 255\n",
    "y_test = np_utils.to_categorical(y_test)\n",
    "\n",
    "# taking 4000 sub-samples:\n",
    "x_train_trunc = x_train[0:4000]\n",
    "y_train_trunc = y_train[0:4000]\n",
    "\n",
    "# testing on 50 samples\n",
    "x_test_trunc = x_test[0:400]\n",
    "y_test_trunc = y_test[0:400]\n",
    "\n",
    "# reshaping data to conform to our model 2d np array standards\n",
    "x_train_trunc = np.reshape(x_train_trunc, (x_train_trunc.shape[0], x_train_trunc.shape[2]))\n",
    "# y_train_trunc = np.reshape(y_train_trunc, (y_train_trunc.shape[0], y_train_trunc.shape[2]))\n",
    "x_test_trunc = np.reshape(x_test_trunc, (x_test_trunc.shape[0], x_test_trunc.shape[2]))\n",
    "# y_test_trunc =  np.reshape(y_test_trunc, (y_test_trunc.shape[0], y_test_trunc.shape[2]))"
   ]
  },
  {
   "cell_type": "code",
   "execution_count": 3,
   "metadata": {
    "pycharm": {
     "name": "#%%\n"
    }
   },
   "outputs": [
    {
     "name": "stdout",
     "output_type": "stream",
     "text": [
      "Epoch #: 1 | Latest Error\" 0.06444519254029062\n",
      "Epoch #: 2 | Latest Error\" 2.148780838159903\n",
      "Epoch #: 3 | Latest Error\" 0.042973482457494334\n",
      "Epoch #: 4 | Latest Error\" 0.7859426547667538\n",
      "Epoch #: 5 | Latest Error\" 0.0011023304027133955\n",
      "Epoch #: 6 | Latest Error\" 0.080595987107829\n",
      "Epoch #: 7 | Latest Error\" 0.13111973562969037\n",
      "Epoch #: 8 | Latest Error\" 0.008666578078560387\n",
      "Epoch #: 9 | Latest Error\" 0.1882676811332939\n",
      "Epoch #: 10 | Latest Error\" 0.0008443387767449139\n",
      "Epoch #: 11 | Latest Error\" 0.06166600174799535\n",
      "Epoch #: 12 | Latest Error\" 0.9079871750931796\n",
      "Epoch #: 13 | Latest Error\" 0.028243373870655654\n",
      "Epoch #: 14 | Latest Error\" 0.04623622330729628\n",
      "Epoch #: 15 | Latest Error\" 0.0014365935206400214\n",
      "Epoch #: 16 | Latest Error\" 0.0008010312589505433\n",
      "Epoch #: 17 | Latest Error\" 0.013001150210364004\n",
      "Epoch #: 18 | Latest Error\" 9.023583988389195e-05\n",
      "Epoch #: 19 | Latest Error\" 0.0024069487035269206\n",
      "Epoch #: 20 | Latest Error\" 0.0031869144625741317\n",
      "Epoch #: 21 | Latest Error\" 0.007448488797721622\n",
      "Epoch #: 22 | Latest Error\" 0.042011876964768526\n",
      "Epoch #: 23 | Latest Error\" 0.5579774766101048\n",
      "Epoch #: 24 | Latest Error\" 0.003967647044166978\n",
      "Epoch #: 25 | Latest Error\" 0.1043650756548941\n",
      "Epoch #: 26 | Latest Error\" 2.8934822103922126e-05\n",
      "Epoch #: 27 | Latest Error\" 0.11379807384962261\n",
      "Epoch #: 28 | Latest Error\" 0.299433688225413\n",
      "Epoch #: 29 | Latest Error\" 0.0009646422934316215\n",
      "Epoch #: 30 | Latest Error\" 0.0014592154548424216\n",
      "Epoch #: 31 | Latest Error\" 0.0004514298768754527\n",
      "Epoch #: 32 | Latest Error\" 0.0023178978890944796\n",
      "Epoch #: 33 | Latest Error\" 0.0031064151838121118\n",
      "Epoch #: 34 | Latest Error\" 0.0013814978096885176\n",
      "Epoch #: 35 | Latest Error\" 1.214426297385965e-06\n",
      "The Multinomial Classification Model has an accuracy of 93.0%\n"
     ]
    },
    {
     "data": {
      "text/plain": "<Figure size 432x288 with 1 Axes>",
      "image/png": "[encoded data removed]"
     },
     "metadata": {
      "needs_background": "light"
     },
     "output_type": "display_data"
    }
   ],
   "source": [
    "# creating our model\n",
    "model = Network('mse', x_train_trunc, y_train_trunc, x_test_trunc, y_test_trunc, x_features=784, epoch_num=35,\n",
    "                layer_num=3, layer_depths=[100, 50, 10], batch_num=2000, learn_rate=0.01)\n",
    "\n",
    "# adding our tangent hyperbolic hidden layers\n",
    "model.add_Layer('relu', 'initial_hidden')\n",
    "model.add_Layer('relu', 'hidden')\n",
    "\n",
    "# adding output layer\n",
    "model.add_Layer('sigmoid', 'output')\n",
    "\n",
    "# training model\n",
    "model.train()\n",
    "\n",
    "# plotting model error while training\n",
    "model.plot_train_error()\n",
    "\n",
    "# printing model predictions for some test samples\n",
    "model.test_multinomial_classification()"
   ]
  },
  {
   "cell_type": "code",
   "execution_count": null,
   "metadata": {
    "pycharm": {
     "is_executing": true,
     "name": "#%%\n"
    }
   },
   "outputs": [],
   "source": []
  }
 ],
 "metadata": {
  "kernelspec": {
   "display_name": "Python 3",
   "language": "python",
   "name": "python3"
  },
  "language_info": {
   "codemirror_mode": {
    "name": "ipython",
    "version": 3
   },
   "file_extension": ".py",
   "mimetype": "text/x-python",
   "name": "python",
   "nbconvert_exporter": "python",
   "pygments_lexer": "ipython3",
   "version": "3.8.6"
  }
 },
 "nbformat": 4,
 "nbformat_minor": 1
}