{
 "cells": [
  {
   "cell_type": "markdown",
   "metadata": {
    "collapsed": true,
    "pycharm": {
     "name": "#%% md\n"
    }
   },
   "source": [
    "# This notebook explores employing our homebrew Neural Network for MNIST Image Classification"
   ]
  },
  {
   "cell_type": "code",
   "execution_count": 1,
   "outputs": [],
   "source": [
    "#making imports\n",
    "import numpy as np\n",
    "from keras.datasets import mnist\n",
    "from keras.utils import np_utils\n",
    "from Network import Network"
   ],
   "metadata": {
    "collapsed": false,
    "pycharm": {
     "name": "#%%\n"
    }
   }
  },
  {
   "cell_type": "code",
   "execution_count": 2,
   "outputs": [],
   "source": [
    "# load MNIST from server\n",
    "(x_train, y_train), (x_test, y_test) = mnist.load_data()\n",
    "\n",
    "# reshaping & normalizing x_train data\n",
    "x_train = x_train.reshape(x_train.shape[0], 1, 28 * 28)\n",
    "x_train = x_train.astype('float32')\n",
    "x_train /= 255\n",
    "\n",
    "# hot encoding y_train vector\n",
    "y_train = np_utils.to_categorical(y_train)\n",
    "\n",
    "# reshaping & normalizing y_train data\n",
    "x_test = x_test.reshape(x_test.shape[0], 1, 28 * 28)\n",
    "x_test = x_test.astype('float32')\n",
    "x_test /= 255\n",
    "y_test = np_utils.to_categorical(y_test)\n",
    "\n",
    "# taking 4000 sub-samples:\n",
    "x_train_trunc = x_train[0:4000]\n",
    "y_train_trunc = y_train[0:4000]\n",
    "\n",
    "# testing on 50 samples\n",
    "x_test_trunc = x_test[0:400]\n",
    "y_test_trunc = y_test[0:400]\n",
    "\n",
    "# reshaping data to conform to our model 2d np array standards\n",
    "x_train_trunc = np.reshape(x_train_trunc, (x_train_trunc.shape[0], x_train_trunc.shape[2]))\n",
    "# y_train_trunc = np.reshape(y_train_trunc, (y_train_trunc.shape[0], y_train_trunc.shape[2]))\n",
    "x_test_trunc = np.reshape(x_test_trunc, (x_test_trunc.shape[0], x_test_trunc.shape[2]))\n",
    "# y_test_trunc =  np.reshape(y_test_trunc, (y_test_trunc.shape[0], y_test_trunc.shape[2]))"
   ],
   "metadata": {
    "collapsed": false,
    "pycharm": {
     "name": "#%%\n"
    }
   }
  },
  {
   "cell_type": "code",
   "execution_count": 3,
   "outputs": [
    {
     "name": "stdout",
     "output_type": "stream",
     "text": [
      "Epoch #: 1 | Latest Error\" 0.06618831430838688\n",
      "Epoch #: 2 | Latest Error\" 2.685460139678851\n",
      "Epoch #: 3 | Latest Error\" 0.4499778157133575\n",
      "Epoch #: 4 | Latest Error\" 1.2432253552275467\n",
      "Epoch #: 5 | Latest Error\" 0.11028344519282035\n",
      "Epoch #: 6 | Latest Error\" 0.05209339342744285\n",
      "Epoch #: 7 | Latest Error\" 0.0064922694101365854\n",
      "Epoch #: 8 | Latest Error\" 0.16183049567651697\n",
      "Epoch #: 9 | Latest Error\" 0.016960376974111638\n",
      "Epoch #: 10 | Latest Error\" 0.07737137135600441\n",
      "Epoch #: 11 | Latest Error\" 0.00041443369795111484\n",
      "Epoch #: 12 | Latest Error\" 0.00026442448576718687\n",
      "Epoch #: 13 | Latest Error\" 0.03362409884277567\n",
      "Epoch #: 14 | Latest Error\" 0.19223051710096098\n",
      "Epoch #: 15 | Latest Error\" 0.004823447900206076\n",
      "Epoch #: 16 | Latest Error\" 0.0008401525958632302\n",
      "Epoch #: 17 | Latest Error\" 0.00026923094960006744\n",
      "Epoch #: 18 | Latest Error\" 6.180936561754292e-05\n",
      "Epoch #: 19 | Latest Error\" 0.0007728167392183628\n",
      "Epoch #: 20 | Latest Error\" 0.05804331277535825\n",
      "Epoch #: 21 | Latest Error\" 0.11691285704170667\n",
      "Epoch #: 22 | Latest Error\" 0.0005279085622371137\n",
      "Epoch #: 23 | Latest Error\" 0.001018961250818642\n",
      "Epoch #: 24 | Latest Error\" 1.2832043534686197\n",
      "Epoch #: 25 | Latest Error\" 0.017978978029735793\n",
      "Epoch #: 26 | Latest Error\" 0.0018584035902998368\n",
      "Epoch #: 27 | Latest Error\" 0.0001551846368572794\n",
      "Epoch #: 28 | Latest Error\" 0.023872768121543278\n",
      "Epoch #: 29 | Latest Error\" 0.11498530211482842\n",
      "Epoch #: 30 | Latest Error\" 1.8159321942369638e-05\n",
      "Epoch #: 31 | Latest Error\" 0.7557206656691806\n",
      "Epoch #: 32 | Latest Error\" 0.028604128926386526\n",
      "Epoch #: 33 | Latest Error\" 4.7532852255454785e-05\n",
      "Epoch #: 34 | Latest Error\" 0.00029345017855555094\n",
      "Epoch #: 35 | Latest Error\" 0.00024107854558522878\n",
      "The Multinomial Classification Model has an accuracy of 93.5%\n"
     ]
    },
    {
     "data": {
      "text/plain": "<Figure size 432x288 with 1 Axes>",
      "image/png": "[encoded data removed]"
     },
     "metadata": {
      "needs_background": "light"
     },
     "output_type": "display_data"
    }
   ],
   "source": [
    "# creating our model\n",
    "model = Network('mse', x_train_trunc, y_train_trunc, x_test_trunc, y_test_trunc, x_features=784, epoch_num=35,\n",
    "                layer_num=3, layer_depths=[100, 50, 10], batch_num=2000, learn_rate=0.01)\n",
    "\n",
    "# adding our tangent hyperbolic hidden layers\n",
    "model.add_Layer('relu', 'initial_hidden')\n",
    "model.add_Layer('relu', 'hidden')\n",
    "\n",
    "# adding output layer\n",
    "model.add_Layer('sigmoid', 'output')\n",
    "\n",
    "# training model\n",
    "model.train()\n",
    "\n",
    "# plotting model error while training\n",
    "model.plot_train_error()\n",
    "\n",
    "# printing model predictions for some test samples\n",
    "model.test_multinomial_classification()\n"
   ],
   "metadata": {
    "collapsed": false,
    "pycharm": {
     "name": "#%%\n"
    }
   }
  }
 ],
 "metadata": {
  "kernelspec": {
   "display_name": "Python 3",
   "language": "python",
   "name": "python3"
  },
  "language_info": {
   "codemirror_mode": {
    "name": "ipython",
    "version": 2
   },
   "file_extension": ".py",
   "mimetype": "text/x-python",
   "name": "python",
   "nbconvert_exporter": "python",
   "pygments_lexer": "ipython2",
   "version": "2.7.6"
  }
 },
 "nbformat": 4,
 "nbformat_minor": 0
}