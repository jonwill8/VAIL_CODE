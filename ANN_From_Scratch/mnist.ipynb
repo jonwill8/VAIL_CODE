{
 "cells": [
  {
   "cell_type": "markdown",
   "metadata": {
    "collapsed": true,
    "pycharm": {
     "name": "#%% md\n"
    }
   },
   "source": [
    "# This notebook explores employing our homebrew Neural Network for MNIST Image Classification"
   ]
  },
  {
   "cell_type": "code",
   "execution_count": 7,
   "outputs": [],
   "source": [
    "#making imports\n",
    "import numpy as np\n",
    "from keras.datasets import mnist\n",
    "from keras.utils import np_utils\n",
    "from Network import Network"
   ],
   "metadata": {
    "collapsed": false,
    "pycharm": {
     "name": "#%%\n"
    }
   }
  },
  {
   "cell_type": "code",
   "execution_count": 8,
   "outputs": [],
   "source": [
    "# load MNIST from server\n",
    "(x_train, y_train), (x_test, y_test) = mnist.load_data()\n",
    "\n",
    "# reshaping & normalizing x_train data\n",
    "x_train = x_train.reshape(x_train.shape[0], 1, 28 * 28)\n",
    "x_train = x_train.astype('float32')\n",
    "x_train /= 255\n",
    "\n",
    "# hot encoding y_train vector\n",
    "y_train = np_utils.to_categorical(y_train)\n",
    "\n",
    "# reshaping & normalizing y_train data\n",
    "x_test = x_test.reshape(x_test.shape[0], 1, 28 * 28)\n",
    "x_test = x_test.astype('float32')\n",
    "x_test /= 255\n",
    "y_test = np_utils.to_categorical(y_test)\n",
    "\n",
    "# taking 4000 sub-samples:\n",
    "x_train_trunc = x_train[0:4000]\n",
    "y_train_trunc = y_train[0:4000]\n",
    "\n",
    "# testing on 50 samples\n",
    "x_test_trunc = x_test[0:400]\n",
    "y_test_trunc = y_test[0:400]\n",
    "\n",
    "# reshaping data to conform to our model 2d np array standards\n",
    "x_train_trunc = np.reshape(x_train_trunc, (x_train_trunc.shape[0], x_train_trunc.shape[2]))\n",
    "# y_train_trunc = np.reshape(y_train_trunc, (y_train_trunc.shape[0], y_train_trunc.shape[2]))\n",
    "x_test_trunc = np.reshape(x_test_trunc, (x_test_trunc.shape[0], x_test_trunc.shape[2]))\n",
    "# y_test_trunc =  np.reshape(y_test_trunc, (y_test_trunc.shape[0], y_test_trunc.shape[2]))"
   ],
   "metadata": {
    "collapsed": false,
    "pycharm": {
     "name": "#%%\n"
    }
   }
  },
  {
   "cell_type": "code",
   "execution_count": 9,
   "outputs": [
    {
     "name": "stdout",
     "output_type": "stream",
     "text": [
      "Epoch #: 1 | Latest Error\" 0.536918169957165\n",
      "Epoch #: 2 | Latest Error\" 0.3858891507602883\n",
      "Epoch #: 3 | Latest Error\" 0.01352414093971874\n",
      "Epoch #: 4 | Latest Error\" 1.0156752870741823\n"
     ]
    },
    {
     "ename": "KeyboardInterrupt",
     "evalue": "",
     "output_type": "error",
     "traceback": [
      "\u001B[0;31m---------------------------------------------------------------------------\u001B[0m",
      "\u001B[0;31mKeyboardInterrupt\u001B[0m                         Traceback (most recent call last)",
      "\u001B[0;32m<ipython-input-9-7567fe97b246>\u001B[0m in \u001B[0;36m<module>\u001B[0;34m\u001B[0m\n\u001B[1;32m     11\u001B[0m \u001B[0;34m\u001B[0m\u001B[0m\n\u001B[1;32m     12\u001B[0m \u001B[0;31m# training model\u001B[0m\u001B[0;34m\u001B[0m\u001B[0;34m\u001B[0m\u001B[0;34m\u001B[0m\u001B[0m\n\u001B[0;32m---> 13\u001B[0;31m \u001B[0mmodel\u001B[0m\u001B[0;34m.\u001B[0m\u001B[0mtrain\u001B[0m\u001B[0;34m(\u001B[0m\u001B[0;34m)\u001B[0m\u001B[0;34m\u001B[0m\u001B[0;34m\u001B[0m\u001B[0m\n\u001B[0m\u001B[1;32m     14\u001B[0m \u001B[0;34m\u001B[0m\u001B[0m\n\u001B[1;32m     15\u001B[0m \u001B[0;31m# plotting model error while training\u001B[0m\u001B[0;34m\u001B[0m\u001B[0;34m\u001B[0m\u001B[0;34m\u001B[0m\u001B[0m\n",
      "\u001B[0;32m~/Desktop/Desktop-s-will511/VAIL_AI/VAIL_AI_Code/ANN_From_Scratch/Network.py\u001B[0m in \u001B[0;36mtrain\u001B[0;34m(self)\u001B[0m\n\u001B[1;32m    112\u001B[0m                 \u001B[0mself\u001B[0m\u001B[0;34m.\u001B[0m\u001B[0merror_log\u001B[0m\u001B[0;34m[\u001B[0m\u001B[0merror_log_index\u001B[0m\u001B[0;34m]\u001B[0m \u001B[0;34m=\u001B[0m \u001B[0mbatch_error\u001B[0m\u001B[0;34m\u001B[0m\u001B[0;34m\u001B[0m\u001B[0m\n\u001B[1;32m    113\u001B[0m                 \u001B[0;31m# updating params via gradient descent + backpropagation\u001B[0m\u001B[0;34m\u001B[0m\u001B[0;34m\u001B[0m\u001B[0;34m\u001B[0m\u001B[0m\n\u001B[0;32m--> 114\u001B[0;31m                 \u001B[0mself\u001B[0m\u001B[0;34m.\u001B[0m\u001B[0mbackpropagation\u001B[0m\u001B[0;34m(\u001B[0m\u001B[0mx_train_batch\u001B[0m\u001B[0;34m,\u001B[0m \u001B[0mprediction_matrix\u001B[0m\u001B[0;34m,\u001B[0m \u001B[0my_train_batch\u001B[0m\u001B[0;34m)\u001B[0m\u001B[0;34m\u001B[0m\u001B[0;34m\u001B[0m\u001B[0m\n\u001B[0m\u001B[1;32m    115\u001B[0m \u001B[0;34m\u001B[0m\u001B[0m\n\u001B[1;32m    116\u001B[0m             \u001B[0;31m# printing error after each epoch nth epoch number\u001B[0m\u001B[0;34m\u001B[0m\u001B[0;34m\u001B[0m\u001B[0;34m\u001B[0m\u001B[0m\n",
      "\u001B[0;32m~/Desktop/Desktop-s-will511/VAIL_AI/VAIL_AI_Code/ANN_From_Scratch/Network.py\u001B[0m in \u001B[0;36mbackpropagation\u001B[0;34m(self, x_inputs_vector, y_predictions_vector, y_observation_vector)\u001B[0m\n\u001B[1;32m    184\u001B[0m                     \u001B[0;31m# updating weights/bias\u001B[0m\u001B[0;34m\u001B[0m\u001B[0;34m\u001B[0m\u001B[0;34m\u001B[0m\u001B[0m\n\u001B[1;32m    185\u001B[0m                     \u001B[0mcurr_layer\u001B[0m\u001B[0;34m.\u001B[0m\u001B[0mupdate_biases\u001B[0m\u001B[0;34m(\u001B[0m\u001B[0mself\u001B[0m\u001B[0;34m.\u001B[0m\u001B[0mlearn_rate\u001B[0m\u001B[0;34m)\u001B[0m\u001B[0;34m\u001B[0m\u001B[0;34m\u001B[0m\u001B[0m\n\u001B[0;32m--> 186\u001B[0;31m                     \u001B[0mcurr_layer\u001B[0m\u001B[0;34m.\u001B[0m\u001B[0mupdate_weights\u001B[0m\u001B[0;34m(\u001B[0m\u001B[0mself\u001B[0m\u001B[0;34m.\u001B[0m\u001B[0mlearn_rate\u001B[0m\u001B[0;34m,\u001B[0m \u001B[0mweight_partial\u001B[0m\u001B[0;34m)\u001B[0m\u001B[0;34m\u001B[0m\u001B[0;34m\u001B[0m\u001B[0m\n\u001B[0m\u001B[1;32m    187\u001B[0m \u001B[0;34m\u001B[0m\u001B[0m\n\u001B[1;32m    188\u001B[0m                 \u001B[0;32melse\u001B[0m\u001B[0;34m:\u001B[0m\u001B[0;34m\u001B[0m\u001B[0;34m\u001B[0m\u001B[0m\n",
      "\u001B[0;32m~/Desktop/Desktop-s-will511/VAIL_AI/VAIL_AI_Code/ANN_From_Scratch/Layer.py\u001B[0m in \u001B[0;36mupdate_weights\u001B[0;34m(self, learn_rate, partial_weights_vec)\u001B[0m\n\u001B[1;32m     77\u001B[0m         \u001B[0;32melse\u001B[0m\u001B[0;34m:\u001B[0m\u001B[0;34m\u001B[0m\u001B[0;34m\u001B[0m\u001B[0m\n\u001B[1;32m     78\u001B[0m             \u001B[0;31m# logging the old weight values to use in backpropagation\u001B[0m\u001B[0;34m\u001B[0m\u001B[0;34m\u001B[0m\u001B[0;34m\u001B[0m\u001B[0m\n\u001B[0;32m---> 79\u001B[0;31m             \u001B[0mself\u001B[0m\u001B[0;34m.\u001B[0m\u001B[0mlog_old_weights\u001B[0m\u001B[0;34m(\u001B[0m\u001B[0;34m)\u001B[0m\u001B[0;34m\u001B[0m\u001B[0;34m\u001B[0m\u001B[0m\n\u001B[0m\u001B[1;32m     80\u001B[0m             \u001B[0mself\u001B[0m\u001B[0;34m.\u001B[0m\u001B[0mneuron_weights\u001B[0m \u001B[0;34m=\u001B[0m \u001B[0mself\u001B[0m\u001B[0;34m.\u001B[0m\u001B[0mneuron_weights\u001B[0m \u001B[0;34m-\u001B[0m \u001B[0mlearn_rate\u001B[0m \u001B[0;34m*\u001B[0m \u001B[0mpartial_weights_vec\u001B[0m\u001B[0;34m\u001B[0m\u001B[0;34m\u001B[0m\u001B[0m\n\u001B[1;32m     81\u001B[0m \u001B[0;34m\u001B[0m\u001B[0m\n",
      "\u001B[0;31mKeyboardInterrupt\u001B[0m: "
     ]
    }
   ],
   "source": [
    "# creating our model\n",
    "model = Network('mse', x_train_trunc, y_train_trunc, x_test_trunc, y_test_trunc, x_features=784, epoch_num=35,\n",
    "                layer_num=3, layer_depths=[100, 50, 10], batch_num=2000, learn_rate=0.01)\n",
    "\n",
    "# adding our tangent hyperbolic hidden layers\n",
    "model.add_Layer('relu', 'initial_hidden')\n",
    "model.add_Layer('relu', 'hidden')\n",
    "\n",
    "# adding output layer\n",
    "model.add_Layer('sigmoid', 'output')\n",
    "\n",
    "# training model\n",
    "model.train()\n",
    "\n",
    "# plotting model error while training\n",
    "model.plot_train_error()\n",
    "\n",
    "# printing model predictions for some test samples\n",
    "model.test_multinomial_classification()"
   ],
   "metadata": {
    "collapsed": false,
    "pycharm": {
     "name": "#%%\n"
    }
   }
  },
  {
   "cell_type": "code",
   "execution_count": null,
   "outputs": [],
   "source": [],
   "metadata": {
    "collapsed": false,
    "pycharm": {
     "name": "#%%\n"
    }
   }
  }
 ],
 "metadata": {
  "kernelspec": {
   "display_name": "Python 3",
   "language": "python",
   "name": "python3"
  },
  "language_info": {
   "codemirror_mode": {
    "name": "ipython",
    "version": 2
   },
   "file_extension": ".py",
   "mimetype": "text/x-python",
   "name": "python",
   "nbconvert_exporter": "python",
   "pygments_lexer": "ipython2",
   "version": "2.7.6"
  }
 },
 "nbformat": 4,
 "nbformat_minor": 0
}