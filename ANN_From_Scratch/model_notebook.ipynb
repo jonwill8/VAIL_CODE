{
 "cells": [
  {
   "cell_type": "code",
   "execution_count": 1,
   "outputs": [],
   "source": [
    "import numpy as np\n",
    "from Network import Network\n",
    "import matplotlib.pyplot as plt"
   ],
   "metadata": {
    "collapsed": false,
    "pycharm": {
     "name": "#%%\n"
    }
   }
  },
  {
   "cell_type": "code",
   "execution_count": 2,
   "outputs": [
    {
     "name": "stdout",
     "output_type": "stream",
     "text": [
      "Epoch #: 100 | Most Recent Error\" 0.011305624414072344\n",
      "Epoch #: 200 | Most Recent Error\" 2.255234749954767e-05\n",
      "Epoch #: 300 | Most Recent Error\" 1.8922199005325631e-06\n",
      "Epoch #: 400 | Most Recent Error\" 1.1961667926652715e-05\n",
      "Epoch #: 500 | Most Recent Error\" 0.001296987083014665\n",
      "Epoch #: 600 | Most Recent Error\" 4.5283300907248624e-08\n",
      "Epoch #: 700 | Most Recent Error\" 0.0007881142351122894\n",
      "Epoch #: 800 | Most Recent Error\" 0.0007400638089016397\n",
      "Epoch #: 900 | Most Recent Error\" 1.5666219654773237e-06\n",
      "Epoch #: 1000 | Most Recent Error\" 0.0005223913930969996\n",
      "The Binary Classification Model has an accuracy of 100.0%\n"
     ]
    },
    {
     "data": {
      "text/plain": "<Figure size 432x288 with 1 Axes>",
      "image/png": "[encoded data removed]"
     },
     "metadata": {
      "needs_background": "light"
     },
     "output_type": "display_data"
    },
    {
     "data": {
      "text/plain": "array([[ 7.14811640e-04],\n       [ 7.14811640e-04],\n       [ 9.77191606e-01],\n       [ 9.77191606e-01],\n       [ 9.76081648e-01],\n       [ 9.76081648e-01],\n       [-7.54424580e-04],\n       [ 9.76081648e-01],\n       [-7.54424580e-04]])"
     },
     "execution_count": 2,
     "metadata": {},
     "output_type": "execute_result"
    }
   ],
   "source": [
    "# setting up test/train data arrays #CLEAN UP AND CHECK FOR ACCURACY\n",
    "X_train = np.array([[0, 0], [1, 0], [0, 1], [1, 1]])\n",
    "Y_train = np.array([[0], [1], [1], [0]])\n",
    "Y_train_2 = np.array([[0], [0], [0], [1]])\n",
    "X_test = np.array([[0, 0], [0, 0], [0, 1], [0, 1], [1, 0], [1, 0], [1, 1], [1, 0], [1, 1]])\n",
    "Y_test = np.array([[0], [0], [1], [1], [1], [1], [0], [1], [0]])\n",
    "Y_test_2 = np.array([[0], [0], [0], [0], [0], [0], [1], [0], [1]])\n",
    "\n",
    "\n",
    "# creating model object\n",
    "model = Network('mse', X_train, Y_train, X_test, Y_test, x_features=2, epoch_num=1000,\n",
    "                layer_num=2, layer_depths=[3,1], learn_rate=0.1,print_error_iteration=100)\n",
    "\n",
    "model.add_Layer('tanhyp', 'initial_hidden')\n",
    "\n",
    "# adding output layer\n",
    "model.add_Layer('tanhyp', 'output')\n",
    "\n",
    "# training model\n",
    "model.train()\n",
    "\n",
    "# plotting model error while training\n",
    "model.plot_train_error(print_error=False)\n",
    "\n",
    "# testing model classification abilities\n",
    "model.test_binary_classification()\n",
    "\n",
    "#showing model prediction for a given input vector\n",
    "model.predict(X_test)"
   ],
   "metadata": {
    "collapsed": false,
    "pycharm": {
     "name": "#%%\n"
    }
   }
  },
  {
   "cell_type": "code",
   "execution_count": 3,
   "outputs": [
    {
     "name": "stdout",
     "output_type": "stream",
     "text": [
      "Network trained with mse Cost Function. Layers: \n",
      "[Initial_Hidden Layer with 3 tanhyp Comprising Neurons. \n",
      "Neuron Weights Array: \n",
      " [[-0.3130539  -0.48186855]\n",
      " [-1.77070535  1.51933505]\n",
      " [ 1.86844944 -1.96458498]] \n",
      " Next Layer in the NN is 1 Neurons Deep\n",
      " Output Layer with 1 tanhyp Comprising Neurons. \n",
      "Neuron Weights Array: \n",
      " [[ 0.97251581 -1.90831403 -1.90302998]]]\n"
     ]
    }
   ],
   "source": [
    "#optimized homebrew model params\n",
    "print(model)"
   ],
   "metadata": {
    "collapsed": false,
    "pycharm": {
     "name": "#%%\n"
    }
   }
  },
  {
   "cell_type": "code",
   "execution_count": 4,
   "outputs": [
    {
     "name": "stdout",
     "output_type": "stream",
     "text": [
      "Model Achieves an test accuracy of 100.0%\n"
     ]
    }
   ],
   "source": [
    "from sklearn.neural_network import MLPClassifier\n",
    "\n",
    "skl_model = MLPClassifier(hidden_layer_sizes = (3) ,activation='tanh',solver ='sgd',batch_size=1,learning_rate_init=0.1,max_iter=1000,momentum=0)\n",
    "skl_model.fit(X_train,Y_train.flatten())\n",
    "\n",
    "score = skl_model.score(X_test, Y_test.flatten())\n",
    "print(f'Model Achieves an test accuracy of {score*100}%')"
   ],
   "metadata": {
    "collapsed": false,
    "pycharm": {
     "name": "#%%\n"
    }
   }
  },
  {
   "cell_type": "code",
   "execution_count": 5,
   "outputs": [
    {
     "name": "stdout",
     "output_type": "stream",
     "text": [
      "[array([[ 2.37876848, -3.30909689, -0.4059079 ],\n",
      "       [ 1.94677979, -3.51573539,  1.54213966]]), array([[-4.34554847],\n",
      "       [-4.7850873 ],\n",
      "       [-1.74417258]])]\n"
     ]
    },
    {
     "data": {
      "text/plain": "<Figure size 432x288 with 1 Axes>",
      "image/png": "[encoded data removed]"
     },
     "metadata": {
      "needs_background": "light"
     },
     "output_type": "display_data"
    }
   ],
   "source": [
    "#printing optimal model parameters\n",
    "optimized_model_params = skl_model.coefs_\n",
    "print(optimized_model_params)\n",
    "\n",
    "#showing the model loss curve\n",
    "\n",
    "\n",
    "loss_curve = skl_model.loss_curve_\n",
    "\n",
    "plt.plot(np.arange(len(loss_curve)),loss_curve)\n",
    "plt.show()"
   ],
   "metadata": {
    "collapsed": false,
    "pycharm": {
     "name": "#%%\n"
    }
   }
  },
  {
   "cell_type": "code",
   "execution_count": 6,
   "outputs": [
    {
     "data": {
      "text/plain": "array([0, 0, 1, 1, 1, 1, 0, 1, 0])"
     },
     "execution_count": 6,
     "metadata": {},
     "output_type": "execute_result"
    }
   ],
   "source": [
    "#mking predictions using the model\n",
    "skl_model.predict(X_test)"
   ],
   "metadata": {
    "collapsed": false,
    "pycharm": {
     "name": "#%%\n"
    }
   }
  },
  {
   "cell_type": "code",
   "execution_count": 6,
   "outputs": [],
   "source": [],
   "metadata": {
    "collapsed": false,
    "pycharm": {
     "name": "#%%\n"
    }
   }
  }
 ],
 "metadata": {
  "kernelspec": {
   "display_name": "Python 3",
   "language": "python",
   "name": "python3"
  },
  "language_info": {
   "codemirror_mode": {
    "name": "ipython",
    "version": 2
   },
   "file_extension": ".py",
   "mimetype": "text/x-python",
   "name": "python",
   "nbconvert_exporter": "python",
   "pygments_lexer": "ipython2",
   "version": "2.7.6"
  }
 },
 "nbformat": 4,
 "nbformat_minor": 0
}