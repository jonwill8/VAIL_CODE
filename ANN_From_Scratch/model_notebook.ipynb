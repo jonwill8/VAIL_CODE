{
 "cells": [
  {
   "cell_type": "code",
   "execution_count": 63,
   "outputs": [],
   "source": [
    "import numpy as np\n",
    "from Network import Network\n",
    "import matplotlib.pyplot as plt"
   ],
   "metadata": {
    "collapsed": false,
    "pycharm": {
     "name": "#%%\n"
    }
   }
  },
  {
   "cell_type": "code",
   "execution_count": 64,
   "outputs": [
    {
     "name": "stderr",
     "output_type": "stream",
     "text": [
      "/Users/jonathan.williams/Desktop/Desktop-s-will511/VAIL_AI/VAIL_AI_Code/ANN_From_Scratch/Network.py:278: RuntimeWarning: invalid value encountered in log\n",
      "  y_observation_vector * np.log(y_predictions_vector) + (1 - y_observation_vector) * np.log(\n"
     ]
    },
    {
     "name": "stdout",
     "output_type": "stream",
     "text": [
      "Epoch # 1000\n",
      "The Binary Classification Model has an accuracy of 100.0%\n",
      "[[-0.97745233]\n",
      " [-0.97745233]\n",
      " [ 0.98650509]\n",
      " [ 0.98650509]\n",
      " [ 0.99632207]\n",
      " [ 0.99632207]\n",
      " [-0.97676184]\n",
      " [ 0.99632207]\n",
      " [-0.97676184]]\n"
     ]
    },
    {
     "data": {
      "text/plain": "<Figure size 432x288 with 1 Axes>",
      "image/png": "[encoded data removed]"
     },
     "metadata": {
      "needs_background": "light"
     },
     "output_type": "display_data"
    }
   ],
   "source": [
    "# setting up test/train data arrays #CLEAN UP AND CHECK FOR ACCURACY\n",
    "X_train = np.array([[0, 0], [1, 0], [0, 1], [1, 1]])\n",
    "Y_train = np.array([[0], [1], [1], [0]])\n",
    "Y_train_2 = np.array([[0], [0], [0], [1]])\n",
    "X_test = np.array([[0, 0], [0, 0], [0, 1], [0, 1], [1, 0], [1, 0], [1, 1], [1, 0], [1, 1]])\n",
    "Y_test = np.array([[0], [0], [1], [1], [1], [1], [0], [1], [0]])\n",
    "Y_test_2 = np.array([[0], [0], [0], [0], [0], [0], [1], [0], [1]])\n",
    "\n",
    "\n",
    "# creating model object\n",
    "model = Network('log-loss', X_train, Y_train, X_test, Y_test, x_features=2, epoch_num=1000,\n",
    "                layer_num=2, layer_depths=[3,1], learn_rate=0.1,print_error_iteration=100)\n",
    "\n",
    "model.add_Layer('tanhyp', 'initial_hidden')\n",
    "\n",
    "# adding output layer\n",
    "model.add_Layer('tanhyp', 'output')\n",
    "\n",
    "# training model\n",
    "model.train()\n",
    "\n",
    "# plotting model error while training\n",
    "model.plot_train_error(print_error=False)\n",
    "\n",
    "# testing model classification abilities\n",
    "model.test_classification()\n",
    "\n",
    "#showing model prediction for a given input vector\n",
    "model.predict(X_test)"
   ],
   "metadata": {
    "collapsed": false,
    "pycharm": {
     "name": "#%%\n"
    }
   }
  },
  {
   "cell_type": "code",
   "execution_count": 65,
   "outputs": [
    {
     "name": "stdout",
     "output_type": "stream",
     "text": [
      "Network trained with log-loss Cost Function. Layers: \n",
      "[Initial_Hidden Layer with 3 tanhyp Comprising Neurons. \n",
      "Neuron Weights Array: \n",
      " [[-2.4860797  -1.86741423]\n",
      " [-1.9726238  -2.6007043 ]\n",
      " [-1.34672171  1.38450992]] \n",
      " Next Layer in the NN is 1 Neurons Deep\n",
      " Output Layer with 1 tanhyp Comprising Neurons. \n",
      "Neuron Weights Array: \n",
      " [[ 3.06148309 -3.1652035  -2.15172582]]]\n"
     ]
    }
   ],
   "source": [
    "#optimized homebrew model params\n",
    "print(model)"
   ],
   "metadata": {
    "collapsed": false,
    "pycharm": {
     "name": "#%%\n"
    }
   }
  },
  {
   "cell_type": "code",
   "execution_count": 66,
   "outputs": [
    {
     "name": "stdout",
     "output_type": "stream",
     "text": [
      "Model Achieves an test accuracy of 100.0%\n"
     ]
    }
   ],
   "source": [
    "from sklearn.neural_network import MLPClassifier\n",
    "\n",
    "skl_model = MLPClassifier(hidden_layer_sizes = (3) ,activation='tanh',solver ='sgd',batch_size=1,learning_rate_init=0.1,max_iter=1000,momentum=0)\n",
    "skl_model.fit(X_train,Y_train.flatten())\n",
    "\n",
    "score = skl_model.score(X_test, Y_test.flatten())\n",
    "print(f'Model Achieves an test accuracy of {score*100}%')"
   ],
   "metadata": {
    "collapsed": false,
    "pycharm": {
     "name": "#%%\n"
    }
   }
  },
  {
   "cell_type": "code",
   "execution_count": 67,
   "outputs": [
    {
     "name": "stdout",
     "output_type": "stream",
     "text": [
      "[array([[-3.37523151, -0.78886579,  2.10008684],\n",
      "       [-3.40469805,  0.15616773,  2.25586344]]), array([[-4.61270955],\n",
      "       [ 1.99202443],\n",
      "       [-4.52223123]])]\n"
     ]
    },
    {
     "data": {
      "text/plain": "<Figure size 432x288 with 1 Axes>",
      "image/png": "[encoded data removed]"
     },
     "metadata": {
      "needs_background": "light"
     },
     "output_type": "display_data"
    }
   ],
   "source": [
    "#printing optimal model parameters\n",
    "optimized_model_params = skl_model.coefs_\n",
    "print(optimized_model_params)\n",
    "\n",
    "#showing the model loss curve\n",
    "\n",
    "\n",
    "loss_curve = skl_model.loss_curve_\n",
    "\n",
    "plt.plot(np.arange(len(loss_curve)),loss_curve)\n",
    "plt.show()"
   ],
   "metadata": {
    "collapsed": false,
    "pycharm": {
     "name": "#%%\n"
    }
   }
  },
  {
   "cell_type": "code",
   "execution_count": 68,
   "outputs": [
    {
     "data": {
      "text/plain": "array([0, 0, 1, 1, 1, 1, 0, 1, 0])"
     },
     "execution_count": 68,
     "metadata": {},
     "output_type": "execute_result"
    }
   ],
   "source": [
    "#mking predictions using the model\n",
    "skl_model.predict(X_test)"
   ],
   "metadata": {
    "collapsed": false,
    "pycharm": {
     "name": "#%%\n"
    }
   }
  },
  {
   "cell_type": "code",
   "execution_count": 68,
   "outputs": [],
   "source": [],
   "metadata": {
    "collapsed": false,
    "pycharm": {
     "name": "#%%\n"
    }
   }
  }
 ],
 "metadata": {
  "kernelspec": {
   "display_name": "Python 3",
   "language": "python",
   "name": "python3"
  },
  "language_info": {
   "codemirror_mode": {
    "name": "ipython",
    "version": 2
   },
   "file_extension": ".py",
   "mimetype": "text/x-python",
   "name": "python",
   "nbconvert_exporter": "python",
   "pygments_lexer": "ipython2",
   "version": "2.7.6"
  }
 },
 "nbformat": 4,
 "nbformat_minor": 0
}