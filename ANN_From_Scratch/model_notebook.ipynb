{
 "cells": [
  {
   "cell_type": "code",
   "execution_count": 1,
   "outputs": [],
   "source": [
    "import numpy as np\n",
    "from Network import Network"
   ],
   "metadata": {
    "collapsed": false,
    "pycharm": {
     "name": "#%%\n"
    }
   }
  },
  {
   "cell_type": "code",
   "execution_count": 71,
   "outputs": [
    {
     "name": "stdout",
     "output_type": "stream",
     "text": [
      "Network trained with mse Cost Function. Layers: \n",
      "[Initial_Hidden Layer with 3 tanhyp Comprising Neurons. \n",
      "Neuron Weights Array: \n",
      " [[-0.27439518  0.65162256]\n",
      " [ 0.16145557 -1.39261009]\n",
      " [ 0.10797637 -0.93554607]] \n",
      " Next Layer in the NN is 3 Neurons Deep\n",
      " Hidden Layer with 3 sigmoid Comprising Neurons. \n",
      "Neuron Weights Array: \n",
      " [[-0.42635133 -1.16808055 -0.3298415 ]\n",
      " [-1.19307166  0.56164906 -0.51468593]\n",
      " [-0.00438911 -0.98247962 -0.53035341]] \n",
      " Next Layer in the NN is 1 Neurons Deep\n",
      " Output Layer with 1 sigmoid Comprising Neurons. \n",
      "Neuron Weights Array: \n",
      " [[ 0.22520731  0.59732683 -0.26648908]]]\n",
      "Epoch # 100\n",
      "Epoch # 200\n",
      "0.073309711253629\n",
      "0.04190683017816883\n",
      "0.12841434745211266\n",
      "0.024191752169360245\n",
      "0.019922091128869817\n",
      "0.019862606075120626\n",
      "0.017579740832871515\n",
      "0.018249435975143075\n",
      "0.013734072294120596\n",
      "0.01447082808834244\n",
      "0.017474209661915156\n",
      "0.1455408754375935\n",
      "0.014039183944822339\n",
      "0.016339383947267277\n",
      "0.14283917876812774\n",
      "0.01618338341161596\n",
      "0.015572150735291642\n",
      "0.01598529514910418\n",
      "0.0152998917221412\n",
      "0.015225884801191752\n",
      "Optimized Model: \n",
      "Network trained with mse Cost Function. Layers: \n",
      "[Initial_Hidden Layer with 3 tanhyp Comprising Neurons. \n",
      "Neuron Weights Array: \n",
      " [[-0.2464602   0.6837796 ]\n",
      " [ 0.51839597 -1.09891546]\n",
      " [ 0.32418055 -0.75732819]] \n",
      " Next Layer in the NN is 3 Neurons Deep\n",
      " Hidden Layer with 3 sigmoid Comprising Neurons. \n",
      "Neuron Weights Array: \n",
      " [[-0.43296873 -1.12365669 -0.30006303]\n",
      " [-1.2835739   0.55573142 -0.53372022]\n",
      " [ 0.11687138 -0.5246471  -0.13386798]] \n",
      " Next Layer in the NN is 1 Neurons Deep\n",
      " Output Layer with 1 sigmoid Comprising Neurons. \n",
      "Neuron Weights Array: \n",
      " [[ 0.04878007 -0.30930263 -0.75840333]]]\n",
      "Regression Model has an MSE accuracy of: 0.1876\n",
      "Regression Model has an RMSE accuracy of: 0.4331\n"
     ]
    },
    {
     "data": {
      "text/plain": "<Figure size 432x288 with 1 Axes>",
      "image/png": "[encoded data removed]"
     },
     "metadata": {
      "needs_background": "light"
     },
     "output_type": "display_data"
    }
   ],
   "source": [
    "#testing the forward propagation of a network which solves the Binary And problem\n",
    "\n",
    "# setting up test/train data arrays #CLEAN UP AND CHECK FOR ACCURACY\n",
    "X_train = np.array([[0, 0], [1, 0], [0, 1], [1, 1]])\n",
    "Y_train = np.array([[0], [1], [1], [0]])\n",
    "Y_train_2 = np.array([[0], [0], [0], [1]])\n",
    "X_test = np.array([[0, 0], [0, 0], [0, 1], [0, 1], [1, 0], [1, 0], [1,1], [1, 0], [1, 1]])\n",
    "Y_test = np.array([[0], [0], [1], [1], [1],[1], [0], [1], [0]])\n",
    "Y_test_2 = np.array([[0], [0], [0], [1], [1], [1], [0],[1]])\n",
    "\n",
    "# creating model object\n",
    "model = Network('mse', X_train, Y_train_2, X_train, Y_train_2, x_features=2,epoch_num=250, batch_size=4,\n",
    "                layer_num=3, layer_depths=[3,3,1], learn_rate=0.3)\n",
    "\n",
    "# adding hidden layers\n",
    "model.add_Layer('tanhyp', 'initial_hidden')\n",
    "\n",
    "model.add_Layer('sigmoid', 'hidden')\n",
    "\n",
    "# adding output layer\n",
    "model.add_Layer('sigmoid', 'output')\n",
    "\n",
    "# printing the model\n",
    "print(model)\n",
    "\n",
    "# training model\n",
    "model.train()\n",
    "\n",
    "# plotting model error while training\n",
    "model.plot_train_error()\n",
    "\n",
    "print('Optimized Model: ')\n",
    "print(model)\n",
    "\n",
    "# testing model\n",
    "model.test_regression()"
   ],
   "metadata": {
    "collapsed": false,
    "pycharm": {
     "name": "#%%\n"
    }
   }
  },
  {
   "cell_type": "code",
   "execution_count": 72,
   "outputs": [
    {
     "name": "stdout",
     "output_type": "stream",
     "text": [
      "[[0.24737296]]\n"
     ]
    }
   ],
   "source": [
    "model.predict(np.array([[1,1]]))"
   ],
   "metadata": {
    "collapsed": false,
    "pycharm": {
     "name": "#%%\n"
    }
   }
  },
  {
   "cell_type": "code",
   "execution_count": 3,
   "outputs": [],
   "source": [],
   "metadata": {
    "collapsed": false,
    "pycharm": {
     "name": "#%%\n"
    }
   }
  }
 ],
 "metadata": {
  "kernelspec": {
   "display_name": "Python 3",
   "language": "python",
   "name": "python3"
  },
  "language_info": {
   "codemirror_mode": {
    "name": "ipython",
    "version": 2
   },
   "file_extension": ".py",
   "mimetype": "text/x-python",
   "name": "python",
   "nbconvert_exporter": "python",
   "pygments_lexer": "ipython2",
   "version": "2.7.6"
  }
 },
 "nbformat": 4,
 "nbformat_minor": 0
}